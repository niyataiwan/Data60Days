{
 "cells": [
  {
   "cell_type": "code",
   "execution_count": 9,
   "metadata": {},
   "outputs": [],
   "source": [
    "import numpy as np"
   ]
  },
  {
   "cell_type": "code",
   "execution_count": 2,
   "metadata": {},
   "outputs": [
    {
     "name": "stdout",
     "output_type": "stream",
     "text": [
      "[ 0  1  2  3  4  5  6  7  8  9 10 11 12 13 14 15 16 17 18 19 20]\n"
     ]
    }
   ],
   "source": [
    "#1 0~20等差數列\n",
    "array_1=np.arange(0,21,1)\n",
    "print(array_1)"
   ]
  },
  {
   "cell_type": "code",
   "execution_count": null,
   "metadata": {},
   "outputs": [],
   "source": [
    "#2.呈上題，將以上數列取出偶數。\n",
    "print(array_1[::2])\n",
    "for value in range(0,array_1.size):\n",
    "    if array_1[value] % 2==0:\n",
    "        print(array_1[value])"
   ]
  },
  {
   "cell_type": "code",
   "execution_count": 6,
   "metadata": {},
   "outputs": [
    {
     "name": "stdout",
     "output_type": "stream",
     "text": [
      "[ 0  3  6  9 12 15 18]\n",
      "0\n",
      "3\n",
      "6\n",
      "9\n",
      "12\n",
      "15\n",
      "18\n"
     ]
    }
   ],
   "source": [
    "#3.呈1題，將數列取出3的倍數。\n",
    "print(array_1[::3])\n",
    "for value in range(0,array_1.size):\n",
    "    if array_1[value] % 3==0:\n",
    "        print(array_1[value])"
   ]
  },
  {
   "cell_type": "markdown",
   "metadata": {},
   "source": [
    "# [簡答題] 請問下列兩種將 Array 轉換成 List 的方式有何不同？"
   ]
  },
  {
   "cell_type": "code",
   "execution_count": 16,
   "metadata": {},
   "outputs": [
    {
     "name": "stdout",
     "output_type": "stream",
     "text": [
      "list(a):  [7, 5, 0, 8, 0, 4]\n",
      "tolist():  [7, 5, 0, 8, 0, 4]\n",
      "list(b):  [array([6, 5]), array([7, 6]), array([3, 2])]\n",
      "tolist():  [[6, 5], [7, 6], [3, 2]]\n"
     ]
    }
   ],
   "source": [
    "a = np.random.randint(10 , size=6)\n",
    "\n",
    "print('list(a): ', list(a))\n",
    "print('tolist(): ', a.tolist())\n",
    "\n",
    "b = np.random.randint(10 , size=6).reshape(3 , 2)\n",
    "\n",
    "print('list(b): ', list(b))\n",
    "print('tolist(): ', b.tolist())"
   ]
  },
  {
   "cell_type": "markdown",
   "metadata": {},
   "source": [
    "# 2. 請試著在程式中印出以下三個 NdArray 的屬性並且解釋結果？\n",
    "\n",
    "a = np.random.randint(10, size=6) \n",
    "\n",
    "b = np.random.randint(10, size=(3,4)) \n",
    "\n",
    "c = np.random.randint(10, size=(2,3,2)) \n",
    "\n",
    "（屬性：ndim、shape、size、dtype、itemsize、length、type）"
   ]
  },
  {
   "cell_type": "code",
   "execution_count": 23,
   "metadata": {},
   "outputs": [
    {
     "name": "stdout",
     "output_type": "stream",
     "text": [
      "[8 2 2 0 9 4]\n",
      "1\n",
      "(6,)\n",
      "6\n",
      "int32\n",
      "4\n",
      "6\n",
      "<class 'numpy.ndarray'>\n"
     ]
    }
   ],
   "source": [
    "a = np.random.randint(10, size=6)\n",
    "print(a)\n",
    "print(a.ndim)\n",
    "print(a.shape)\n",
    "print(a.size)\n",
    "print(a.dtype)\n",
    "print(a.itemsize)\n",
    "print(len(a))\n",
    "print(type(a))"
   ]
  },
  {
   "cell_type": "code",
   "execution_count": 24,
   "metadata": {},
   "outputs": [
    {
     "name": "stdout",
     "output_type": "stream",
     "text": [
      "[[1 3 7 8]\n",
      " [4 1 9 0]\n",
      " [5 4 2 6]]\n",
      "2\n",
      "(3, 4)\n",
      "12\n",
      "int32\n",
      "4\n",
      "3\n",
      "<class 'numpy.ndarray'>\n"
     ]
    }
   ],
   "source": [
    "b = np.random.randint(10, size=(3,4))\n",
    "print(b)\n",
    "print(b.ndim)\n",
    "print(b.shape)\n",
    "print(b.size)\n",
    "print(b.dtype)\n",
    "print(b.itemsize)\n",
    "print(len(b))\n",
    "print(type(b))"
   ]
  },
  {
   "cell_type": "code",
   "execution_count": 27,
   "metadata": {},
   "outputs": [
    {
     "name": "stdout",
     "output_type": "stream",
     "text": [
      "[[[7 9]\n",
      "  [7 8]\n",
      "  [8 8]]\n",
      "\n",
      " [[3 3]\n",
      "  [5 6]\n",
      "  [3 9]]]\n",
      "3\n",
      "(2, 3, 2)\n",
      "12\n",
      "int32\n",
      "4\n",
      "2\n",
      "<class 'numpy.ndarray'>\n"
     ]
    }
   ],
   "source": [
    "c = np.random.randint(10, size=(2,3,2))\n",
    "print(c)\n",
    "print(c.ndim)\n",
    "print(c.shape)\n",
    "print(c.size)\n",
    "print(c.dtype)\n",
    "print(c.itemsize)\n",
    "print(len(c))\n",
    "print(type(c))"
   ]
  },
  {
   "cell_type": "markdown",
   "metadata": {},
   "source": [
    "# 3. 如何利用 list(...) 實現 a.tolist() 的效果？試著用程式實作。"
   ]
  },
  {
   "cell_type": "code",
   "execution_count": 36,
   "metadata": {},
   "outputs": [
    {
     "name": "stdout",
     "output_type": "stream",
     "text": [
      "[8, 2, 2, 0, 9, 4]\n",
      "[[1, 3, 7, 8], [4, 1, 9, 0], [5, 4, 2, 6]]\n",
      "[[[7, 9], [7, 8], [8, 8]], [[3, 3], [5, 6], [3, 9]]]\n"
     ]
    }
   ],
   "source": [
    "#Simple\n",
    "\n",
    "def tolist(iterable):\n",
    "    if type(iterable) != np.ndarray :\n",
    "        return iterable\n",
    "    newlist = []\n",
    "    for obj in iterable:\n",
    "        newlist.append(tolist(obj))\n",
    "    \n",
    "    return list(newlist)\n",
    "\n",
    "print(tolist(a))\n",
    "print(tolist(b))\n",
    "print(tolist(c))"
   ]
  },
  {
   "cell_type": "code",
   "execution_count": 38,
   "metadata": {},
   "outputs": [
    {
     "name": "stdout",
     "output_type": "stream",
     "text": [
      "[8, 2, 2, 0, 9, 4]\n",
      "[[1, 3, 7, 8], [4, 1, 9, 0], [5, 4, 2, 6]]\n",
      "[[[7, 9], [7, 8], [8, 8]], [[3, 3], [5, 6], [3, 9]]]\n"
     ]
    }
   ],
   "source": [
    "#Hard\n",
    "\n",
    "def tolist(iterable):\n",
    "    if type (iterable) != np.ndarray:\n",
    "        return iterable\n",
    "    return [tolist(obj) for obj in iterable]\n",
    "\n",
    "print(tolist(a))\n",
    "print(tolist(b))\n",
    "print(tolist(c))"
   ]
  }
 ],
 "metadata": {
  "kernelspec": {
   "display_name": "Python 3",
   "language": "python",
   "name": "python3"
  },
  "language_info": {
   "codemirror_mode": {
    "name": "ipython",
    "version": 3
   },
   "file_extension": ".py",
   "mimetype": "text/x-python",
   "name": "python",
   "nbconvert_exporter": "python",
   "pygments_lexer": "ipython3",
   "version": "3.7.9"
  }
 },
 "nbformat": 4,
 "nbformat_minor": 2
}
