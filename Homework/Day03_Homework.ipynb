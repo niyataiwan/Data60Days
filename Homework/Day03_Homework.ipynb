{
 "cells": [
  {
   "cell_type": "code",
   "execution_count": 1,
   "id": "female-beads",
   "metadata": {},
   "outputs": [],
   "source": [
    "import numpy as np"
   ]
  },
  {
   "cell_type": "markdown",
   "id": "disciplinary-bryan",
   "metadata": {},
   "source": [
    "# 1. [簡答題] 請比較 np.zeros 和 np.empty 產生出來的陣列有何差異？為什麼要設計兩種方法？"
   ]
  },
  {
   "cell_type": "code",
   "execution_count": 5,
   "id": "thick-estonia",
   "metadata": {},
   "outputs": [
    {
     "name": "stdout",
     "output_type": "stream",
     "text": [
      "[[0. 0. 0.]\n",
      " [0. 0. 0.]]\n",
      "[[0. 0. 0.]\n",
      " [0. 0. 0.]]\n"
     ]
    }
   ],
   "source": [
    "print(np.zeros((2, 3)))\n",
    "#陣列全都是真正的0\n",
    "print(np.empty((2, 3)))\n",
    "#接近於0的陣列，會有數值複寫的問題"
   ]
  },
  {
   "cell_type": "markdown",
   "id": "logical-herald",
   "metadata": {},
   "source": [
    "# 2. 在不用「整數亂數方法」的限制下，如何將包含小數的轉換整數？請將給定的 a 陣列當中的元素變成去掉小數變成整數。"
   ]
  },
  {
   "cell_type": "code",
   "execution_count": 9,
   "id": "micro-delay",
   "metadata": {},
   "outputs": [
    {
     "name": "stdout",
     "output_type": "stream",
     "text": [
      "[[80. 46. 84.]\n",
      " [90.  7. 16.]]\n"
     ]
    }
   ],
   "source": [
    "a = np.random.rand(2, 3)\n",
    "a = a * 100\n",
    "print(a.round())"
   ]
  },
  {
   "cell_type": "markdown",
   "id": "featured-scenario",
   "metadata": {},
   "source": [
    "# 3. 承上題，怎樣可以限制整數的範圍介於 m - n 之間？請將給定的 a 陣列當中的元素的範圍調整成 m - n 之間。"
   ]
  },
  {
   "cell_type": "code",
   "execution_count": 14,
   "id": "blank-nickel",
   "metadata": {},
   "outputs": [
    {
     "name": "stdout",
     "output_type": "stream",
     "text": [
      "[[11.51246253  8.87187438 19.81389166]\n",
      " [16.29977581 18.20124181  9.91067244]]\n",
      "[[0.51246253 0.87187438 0.81389166]\n",
      " [0.29977581 0.20124181 0.91067244]]\n",
      "[[31. 28. 39.]\n",
      " [36. 38. 29.]]\n"
     ]
    }
   ],
   "source": [
    "m = 40\n",
    "n = 20\n",
    "a = np.random.rand(2, 3) * (m-n)\n",
    "b = a\n",
    "print(a)\n",
    "print(b%1) #只取小數點第一位以後的數字\n",
    "print((a-b%1)+n)"
   ]
  },
  {
   "cell_type": "code",
   "execution_count": 15,
   "id": "oriented-leisure",
   "metadata": {},
   "outputs": [
    {
     "name": "stdout",
     "output_type": "stream",
     "text": [
      "分貝: 60.0\n"
     ]
    }
   ],
   "source": [
    "#1.正常的談話的聲壓為20000微巴斯卡，請問多少分貝?\n",
    "#請寫下程式\n",
    "V1 = 20000\n",
    "V0 = 20\n",
    "decibel=20*np.log10(V1/V0)\n",
    "print(\"分貝:\",decibel)"
   ]
  },
  {
   "cell_type": "code",
   "execution_count": 53,
   "id": "waiting-thunder",
   "metadata": {},
   "outputs": [
    {
     "name": "stdout",
     "output_type": "stream",
     "text": [
      "30分貝的聲壓: 632.4555320336758\n",
      "50分貝的聲壓: 6324.555320336759\n",
      "30分貝的聲壓是50分貝的 0.10 倍\n"
     ]
    }
   ],
   "source": [
    "#2.30分貝的聲壓會是50分貝的幾倍?\n",
    "#公式移項過後可以得到 V1 = ?\n",
    "#請寫下程式\n",
    "#20*log10(A/V0)=30 -> log10(A)- Log10(V0)= 3/2\n",
    "#np.log10(A/20)=3/2\n",
    "decibel_30=20*np.power(10,(3/2))\n",
    "print(\"30分貝的聲壓:\",decibel_30)\n",
    "decibel_50=20*np.power(10,(5/2))\n",
    "print(\"50分貝的聲壓:\",decibel_50)\n",
    "mutiple=(decibel_30/decibel_50)\n",
    "print(\"30分貝的聲壓是50分貝的\",'%.2f'%mutiple,\"倍\")"
   ]
  },
  {
   "cell_type": "code",
   "execution_count": null,
   "id": "decreased-budapest",
   "metadata": {},
   "outputs": [],
   "source": []
  }
 ],
 "metadata": {
  "kernelspec": {
   "display_name": "Python 3",
   "language": "python",
   "name": "python3"
  },
  "language_info": {
   "codemirror_mode": {
    "name": "ipython",
    "version": 3
   },
   "file_extension": ".py",
   "mimetype": "text/x-python",
   "name": "python",
   "nbconvert_exporter": "python",
   "pygments_lexer": "ipython3",
   "version": "3.7.9"
  }
 },
 "nbformat": 4,
 "nbformat_minor": 5
}
