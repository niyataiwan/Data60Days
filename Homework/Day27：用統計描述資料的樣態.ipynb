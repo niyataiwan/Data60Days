{
 "cells": [
  {
   "cell_type": "markdown",
   "id": "13937c36",
   "metadata": {},
   "source": [
    "# Study Summary"
   ]
  },
  {
   "cell_type": "markdown",
   "id": "4665669c",
   "metadata": {},
   "source": [
    "### 1. 集中趨勢\n",
    "### 2. 離散趨勢\n",
    "### 3. 分布型態"
   ]
  },
  {
   "cell_type": "code",
   "execution_count": 2,
   "id": "a139849f",
   "metadata": {},
   "outputs": [],
   "source": [
    "import matplotlib.pyplot as plt\n",
    "import numpy as np\n",
    "import statistics\n",
    "from scipy import stats"
   ]
  },
  {
   "cell_type": "code",
   "execution_count": 22,
   "id": "99fbde6a",
   "metadata": {},
   "outputs": [],
   "source": [
    "#產生男生的身高資料\n",
    "boys = [164, 176, 169, 169, 175, 159, \n",
    "        151, 144, 160, 183, 165, 156, \n",
    "        170, 164, 173, 165, 163, 177, 171, 165]"
   ]
  },
  {
   "cell_type": "markdown",
   "id": "4af5b638",
   "metadata": {},
   "source": [
    "### 1. 集中趨勢"
   ]
  },
  {
   "cell_type": "code",
   "execution_count": 13,
   "id": "3177fab0",
   "metadata": {},
   "outputs": [
    {
     "name": "stdout",
     "output_type": "stream",
     "text": [
      "boy height=  165.95\n",
      "boy height =  165.95\n"
     ]
    }
   ],
   "source": [
    "#平均數\n",
    "mean_boy = np.mean(boys)\n",
    "print(\"boy height= \", mean_boy)\n",
    "\n",
    "statistics_mean_boy = statistics.mean(boys)\n",
    "print(\"boy height = \", statistics_mean_boy)"
   ]
  },
  {
   "cell_type": "code",
   "execution_count": 23,
   "id": "d9a0bb16",
   "metadata": {},
   "outputs": [
    {
     "name": "stdout",
     "output_type": "stream",
     "text": [
      "np_median_boy =  165.0\n",
      "np_median_boy =  165.0\n"
     ]
    }
   ],
   "source": [
    "# 中位數\n",
    "# 透過axis指定計算哪一維的資料，boys是一維，可設定axis=0; \n",
    "# axis = None，表示計算全部維度的資料\n",
    "np_median_boy = np.median(boys, axis = None)\n",
    "print(\"np_median_boy = \", np_median_boy)\n",
    "\n",
    "statistics_median_boy = statistics.median(boys) #statistics只能計算一維\n",
    "print(\"np_median_boy = \", statistics_median_boy)"
   ]
  },
  {
   "cell_type": "code",
   "execution_count": 25,
   "id": "fe595cb6",
   "metadata": {},
   "outputs": [
    {
     "name": "stdout",
     "output_type": "stream",
     "text": [
      "boy height mode ModeResult(mode=array([165]), count=array([3]))\n",
      "boy height mode 165\n",
      "boy height mode 165\n"
     ]
    },
    {
     "name": "stderr",
     "output_type": "stream",
     "text": [
      "C:\\Users\\user\\AppData\\Local\\Temp\\ipykernel_10732\\4222651345.py:3: FutureWarning: Unlike other reduction functions (e.g. `skew`, `kurtosis`), the default behavior of `mode` typically preserves the axis it acts along. In SciPy 1.11.0, this behavior will change: the default value of `keepdims` will become False, the `axis` over which the statistic is taken will be eliminated, and the value None will no longer be accepted. Set `keepdims` to True or False to avoid this warning.\n",
      "  mode_boy = stats.mode(boys, axis = None)\n"
     ]
    }
   ],
   "source": [
    "#眾數\n",
    "#boy height mode ModeResult(mode=array([165]), count=array([3]))=>(element1, element2); element1: 眾數的值, element2: 眾數出現次數\n",
    "mode_boy = stats.mode(boys, axis = None)\n",
    "print(\"boy height mode\", mode_boy)\n",
    "print(\"boy height mode\", mode_boy[0][0]) #取index = 0(mode)\n",
    "\n",
    "statistics_mode = statistics.mode(boys)\n",
    "print(\"boy height mode\", statistics_mode)"
   ]
  },
  {
   "cell_type": "markdown",
   "id": "903e68b5",
   "metadata": {},
   "source": [
    "### 2. 離散趨勢"
   ]
  },
  {
   "cell_type": "code",
   "execution_count": 27,
   "id": "ee7c6a6d",
   "metadata": {},
   "outputs": [
    {
     "name": "stdout",
     "output_type": "stream",
     "text": [
      "39\n"
     ]
    }
   ],
   "source": [
    "#全距\n",
    "#rangeV = max(boys) - min(boys)\n",
    "def rangeV(x):\n",
    "    return(max(x) - min(x))\n",
    "\n",
    "print(rangeV(boys))"
   ]
  },
  {
   "cell_type": "code",
   "execution_count": 28,
   "id": "d1968abe",
   "metadata": {},
   "outputs": [
    {
     "name": "stdout",
     "output_type": "stream",
     "text": [
      "boy height 變異數 =  84.89210526315789\n",
      "boy height 變異數 =  84.89210526315789\n"
     ]
    }
   ],
   "source": [
    "# 變異數\n",
    "\"\"\"\n",
    "Numpy.var中ddof參數: ddof int, optional, default 0\n",
    "Delta Degrees of Freedom: the division used in the calculation is N - ddof (ddof會是1)\n",
    "\"\"\"\n",
    "print(\"boy height 變異數 = \", statistics.variance(boys)) #statistics已ddof=1\n",
    "print(\"boy height 變異數 = \", np.var(boys, ddof = 1)) "
   ]
  },
  {
   "cell_type": "code",
   "execution_count": 31,
   "id": "03b3cdb9",
   "metadata": {},
   "outputs": [
    {
     "name": "stdout",
     "output_type": "stream",
     "text": [
      "boy height =  9.213691185575838\n",
      "boy height =  9.213691185575838\n",
      "True\n"
     ]
    }
   ],
   "source": [
    "#樣本標準差\n",
    "std_boy = np.std(boys, ddof = 1)\n",
    "print(\"boy height = \", std_boy)\n",
    "\n",
    "statistics_stdev_boy = statistics.stdev(boys)\n",
    "print(\"boy height = \", statistics_stdev_boy)\n",
    "\n",
    "#樣本標準差是變異數開根號\n",
    "print(np.sqrt(np.var(boys, ddof = 1)) == std_boy)"
   ]
  },
  {
   "cell_type": "code",
   "execution_count": 37,
   "id": "ac9cd22e",
   "metadata": {},
   "outputs": [
    {
     "name": "stdout",
     "output_type": "stream",
     "text": [
      "90百分位數 =  176.1\n",
      "50百分位數 =  165.0\n",
      "20百分位數 =  159.8\n",
      "20百分位數 =  159.8\n"
     ]
    }
   ],
   "source": [
    "#百分位數\n",
    "#np\n",
    "print(\"90百分位數 = \", np.percentile(boys, 90))\n",
    "print(\"50百分位數 = \", np.percentile(boys, 50))\n",
    "print(\"20百分位數 = \", np.percentile(boys, 20))\n",
    "\n",
    "#stat\n",
    "print(\"20百分位數 = \", stats.scoreatpercentile(boys, 20))\n"
   ]
  },
  {
   "cell_type": "markdown",
   "id": "ffaefb91",
   "metadata": {},
   "source": [
    "## 3. 分布型態"
   ]
  },
  {
   "cell_type": "markdown",
   "id": "f60775aa",
   "metadata": {},
   "source": [
    "1. Skewness<0 為左邊態，Skewness>0 為右偏態\n",
    "2. 一般來說，常態分配的Kurtosis = 3\n",
    "3. stats.kurtosis(fisher = True) default is True\n",
    "4. fisher definition: 計算excess kurtosis = original kurtosis - 3(range from -2 to infinity)"
   ]
  },
  {
   "cell_type": "markdown",
   "id": "17846c8b",
   "metadata": {},
   "source": [
    "一般的kurtosis值會落在0~無限大; 常態分配的Kurtosis = 3"
   ]
  },
  {
   "cell_type": "code",
   "execution_count": 39,
   "id": "e60f0ac8",
   "metadata": {},
   "outputs": [
    {
     "name": "stdout",
     "output_type": "stream",
     "text": [
      "偏度: -0.47132127317376954\n",
      "峰度: 0.19395882957876376\n"
     ]
    }
   ],
   "source": [
    "#計算峰度和偏度\n",
    "print('偏度:', stats.skew(boys)) #結果<0，表示有左邊態的情況\n",
    "print('峰度:', stats.kurtosis(boys)) #結果應該3.19，但因為kurtosis - 3，所以是0.19，為了和偏度比較"
   ]
  },
  {
   "cell_type": "code",
   "execution_count": 41,
   "id": "454eca6f",
   "metadata": {},
   "outputs": [
    {
     "data": {
      "image/png": "[encoded data removed]",
      "text/plain": [
       "<Figure size 640x480 with 1 Axes>"
      ]
     },
     "metadata": {},
     "output_type": "display_data"
    }
   ],
   "source": [
    "#連續數值通常會用直方圖(hist)表示\n",
    "'''\n",
    "alpha: 透明度\n",
    "bins: 將連續的變數切割的區間數\n",
    "'''\n",
    "plt.hist(boys, alpha = .4, bins = 40)\n",
    "plt.title('boy skewness = {0}, kurtosis{1}'.format(round(stats.skew(boys),2), round(stats.kurtosis(boys),2)))\n",
    "plt.axvline(x = mean_boy)\n",
    "plt.show()\n",
    "\n",
    "#結論: 左偏態分布"
   ]
  },
  {
   "cell_type": "markdown",
   "id": "dfa6cebc",
   "metadata": {},
   "source": [
    "## Homework"
   ]
  },
  {
   "cell_type": "markdown",
   "id": "520b1a62",
   "metadata": {},
   "source": [
    "Q1：試著用今天所教的內容，如何描述這兩組資料的樣態？\n",
    "\n",
    "Q2：請問男生和女生在平均身高上誰比較高？\n",
    "\n",
    "Q3：請問第二題的答案和日常生活中觀察的一致嗎？如果不一致，你覺得原因可能為何？"
   ]
  },
  {
   "cell_type": "code",
   "execution_count": 48,
   "id": "e36364f3",
   "metadata": {},
   "outputs": [],
   "source": [
    "import matplotlib.pyplot as plt\n",
    "import numpy as np\n",
    "import pandas as pd\n",
    "import math\n",
    "from scipy import stats\n",
    "import statistics\n",
    "import seaborn as sns"
   ]
  },
  {
   "cell_type": "code",
   "execution_count": 87,
   "id": "cad084be",
   "metadata": {},
   "outputs": [],
   "source": [
    "man = [165, 165, 183, 173, \n",
    "        176, 159, 165, 165, \n",
    "        169, 151, 156, 163, \n",
    "        169, 144, 170, 177, \n",
    "        165, 160, 164, 177]\n",
    "\n",
    "woman = [169, 170, 162, 154,\n",
    "        183, 173, 169, 167,\n",
    "        170, 185, 162, 175,\n",
    "        168, 151, 181, 170,\n",
    "        182, 156, 159, 160]"
   ]
  },
  {
   "cell_type": "markdown",
   "id": "a0dc952c",
   "metadata": {},
   "source": [
    "Q1：試著用今天所教的內容，如何描述這兩組資料的樣態？"
   ]
  },
  {
   "cell_type": "code",
   "execution_count": 88,
   "id": "82948681",
   "metadata": {},
   "outputs": [],
   "source": [
    "#集中趨勢 (平均數 眾數 中位數)\n",
    "#離散程度 (標準差 變異數)  全距 百分位數\n",
    "#佈型態 偏度 峰度"
   ]
  },
  {
   "cell_type": "code",
   "execution_count": 89,
   "id": "f7b4a50c",
   "metadata": {},
   "outputs": [
    {
     "name": "stdout",
     "output_type": "stream",
     "text": [
      "man mean height=  165.8\n",
      "np_median_man =  165.0\n",
      "man height mode 165\n"
     ]
    },
    {
     "name": "stderr",
     "output_type": "stream",
     "text": [
      "C:\\Users\\user\\AppData\\Local\\Temp\\ipykernel_10732\\3682249483.py:10: FutureWarning: Unlike other reduction functions (e.g. `skew`, `kurtosis`), the default behavior of `mode` typically preserves the axis it acts along. In SciPy 1.11.0, this behavior will change: the default value of `keepdims` will become False, the `axis` over which the statistic is taken will be eliminated, and the value None will no longer be accepted. Set `keepdims` to True or False to avoid this warning.\n",
      "  print(\"man height mode\", stats.mode(man, axis = None)[0][0])\n"
     ]
    }
   ],
   "source": [
    "#集中趨勢 (平均數 眾數 中位數)\n",
    "\n",
    "# 平均數\n",
    "print(\"man mean height= \", np.mean(man))\n",
    "\n",
    "# 中位數\n",
    "print(\"np_median_man = \", np.median(man, axis = None))\n",
    "\n",
    "# 眾數\n",
    "print(\"man height mode\", stats.mode(man, axis = None)[0][0])\n"
   ]
  },
  {
   "cell_type": "code",
   "execution_count": 90,
   "id": "083b7242",
   "metadata": {},
   "outputs": [
    {
     "name": "stdout",
     "output_type": "stream",
     "text": [
      "全距 =  39\n",
      "變異數 =  85.53684210526318\n",
      "樣本標準差 =  9.248612982780887\n",
      "90百分位數 =  177.0\n",
      "50百分位數 =  165.0\n",
      "20百分位數 =  159.8\n"
     ]
    }
   ],
   "source": [
    "#離散程度 (標準差 變異數  全距 百分位數)\n",
    "\n",
    "#全距\n",
    "def rangeV(x):\n",
    "    return(max(x) - min(x))\n",
    "\n",
    "print(\"全距 = \", rangeV(man))\n",
    "\n",
    "# 變異數\n",
    "print(\"變異數 = \", np.var(man, ddof = 1)) \n",
    "\n",
    "#樣本標準差\n",
    "print(\"樣本標準差 = \", np.std(man, ddof = 1))\n",
    "\n",
    "#百分位數\n",
    "#np\n",
    "print(\"90百分位數 = \", np.percentile(man, 90))\n",
    "print(\"50百分位數 = \", np.percentile(man, 50))\n",
    "print(\"20百分位數 = \", np.percentile(man, 20))"
   ]
  },
  {
   "cell_type": "code",
   "execution_count": 91,
   "id": "a237fe80",
   "metadata": {},
   "outputs": [
    {
     "name": "stdout",
     "output_type": "stream",
     "text": [
      "偏度: -0.38297760010943455\n",
      "峰度: 0.17591570471207119\n"
     ]
    }
   ],
   "source": [
    "#佈型態 偏度 峰度\n",
    "#偏度\n",
    "print('偏度:', stats.skew(man))\n",
    "\n",
    "#峰度\n",
    "print('峰度:', stats.kurtosis(man))"
   ]
  },
  {
   "cell_type": "markdown",
   "id": "5d461f7a",
   "metadata": {},
   "source": [
    "Q2：請問男生和女生在平均身高上誰比較高？"
   ]
  },
  {
   "cell_type": "code",
   "execution_count": 93,
   "id": "371aa8b9",
   "metadata": {},
   "outputs": [
    {
     "name": "stdout",
     "output_type": "stream",
     "text": [
      "man mean height=  165.8\n",
      "man woman height=  168.3\n",
      "False\n"
     ]
    }
   ],
   "source": [
    "print(\"man mean height= \", np.mean(man))\n",
    "print(\"man woman height= \", np.mean(woman))\n",
    "print(np.mean(man) > np.mean(woman))\n",
    "\n",
    "#Ans: woman"
   ]
  },
  {
   "cell_type": "markdown",
   "id": "4377e9be",
   "metadata": {},
   "source": [
    "Q3：請問第二題的答案和日常生活中觀察的一致嗎？如果不一致，你覺得原因可能為何？"
   ]
  },
  {
   "cell_type": "code",
   "execution_count": 94,
   "id": "bc7d4800",
   "metadata": {},
   "outputs": [],
   "source": [
    "# Ans: 不一致，因為是抽樣調查，樣本跟母體數可能差異太大"
   ]
  },
  {
   "cell_type": "markdown",
   "id": "6d1e9343",
   "metadata": {},
   "source": [
    "man左偏態還是右偏態? 用histogram表示"
   ]
  },
  {
   "cell_type": "code",
   "execution_count": 96,
   "id": "b819d945",
   "metadata": {},
   "outputs": [
    {
     "data": {
      "image/png": "[encoded data removed]",
      "text/plain": [
       "<Figure size 640x480 with 1 Axes>"
      ]
     },
     "metadata": {},
     "output_type": "display_data"
    }
   ],
   "source": [
    "'''\n",
    "alpha: 透明度\n",
    "bins: 將連續的變數切割的區間數\n",
    "'''\n",
    "plt.hist(man, alpha = .4, bins = 40)\n",
    "plt.title('boy skewness = {0}, kurtosis{1}'.format(round(stats.skew(man),2), round(stats.kurtosis(man),2)))\n",
    "plt.axvline(x = np.mean(man))\n",
    "plt.show()\n",
    "\n",
    "#結論: 左偏態分布"
   ]
  }
 ],
 "metadata": {
  "kernelspec": {
   "display_name": "Python 3 (ipykernel)",
   "language": "python",
   "name": "python3"
  },
  "language_info": {
   "codemirror_mode": {
    "name": "ipython",
    "version": 3
   },
   "file_extension": ".py",
   "mimetype": "text/x-python",
   "name": "python",
   "nbconvert_exporter": "python",
   "pygments_lexer": "ipython3",
   "version": "3.9.13"
  }
 },
 "nbformat": 4,
 "nbformat_minor": 5
}
