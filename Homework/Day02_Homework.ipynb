{
 "cells": [
  {
   "cell_type": "code",
   "execution_count": 2,
   "id": "hollow-offer",
   "metadata": {},
   "outputs": [],
   "source": [
    "import numpy as np"
   ]
  },
  {
   "cell_type": "code",
   "execution_count": 3,
   "id": "developed-plastic",
   "metadata": {},
   "outputs": [
    {
     "data": {
      "text/plain": [
       "array([[ 0,  5, 10, 15, 20, 25],\n",
       "       [ 1,  6, 11, 16, 21, 26],\n",
       "       [ 2,  7, 12, 17, 22, 27],\n",
       "       [ 3,  8, 13, 18, 23, 28],\n",
       "       [ 4,  9, 14, 19, 24, 29]])"
      ]
     },
     "execution_count": 3,
     "metadata": {},
     "output_type": "execute_result"
    }
   ],
   "source": [
    "#1.將下列清單(list1)，轉成維度為(5X6)的array，順序按列填充。(hint:order=\"F\")\n",
    "array1 = np.array(range(30))\n",
    "New_array=array1.reshape(5,6,order=\"F\")\n",
    "New_array"
   ]
  },
  {
   "cell_type": "code",
   "execution_count": 4,
   "id": "planned-vaccine",
   "metadata": {},
   "outputs": [
    {
     "name": "stdout",
     "output_type": "stream",
     "text": [
      "1\n",
      "7\n",
      "13\n",
      "19\n",
      "25\n"
     ]
    },
    {
     "data": {
      "text/plain": [
       "(array([0, 1, 2, 3, 4], dtype=int64), array([5, 0, 1, 2, 3], dtype=int64))"
      ]
     },
     "execution_count": 4,
     "metadata": {},
     "output_type": "execute_result"
    }
   ],
   "source": [
    "#2.呈上題的array，找出被6除餘1的數的索引\n",
    "for value in array1:\n",
    "    if value%6==1:\n",
    "        print(value)\n",
    "np.where(New_array%6==1)"
   ]
  },
  {
   "cell_type": "markdown",
   "id": "seeing-shoot",
   "metadata": {},
   "source": [
    "# [簡答題] 請問 type(...) 跟 a.dtype 這兩個語法有什麼不同？"
   ]
  },
  {
   "cell_type": "code",
   "execution_count": 6,
   "id": "improved-terry",
   "metadata": {},
   "outputs": [
    {
     "name": "stdout",
     "output_type": "stream",
     "text": [
      "type(a):  <class 'numpy.ndarray'>\n",
      "a.dtype:  int32\n"
     ]
    }
   ],
   "source": [
    "print('type(a): ', type(array1))\n",
    "print('a.dtype: ', array1.dtype)\n",
    "\n",
    "#type適用於變數的型態\n",
    "#a.dtype 適用於array中的元素型態"
   ]
  },
  {
   "cell_type": "markdown",
   "id": "dominant-protein",
   "metadata": {},
   "source": [
    "#  請撰寫一個判斷 a 的元素是否等於指定資料型態的函式，並且通過測試。 "
   ]
  },
  {
   "cell_type": "code",
   "execution_count": 9,
   "id": "powered-reliance",
   "metadata": {},
   "outputs": [],
   "source": [
    "import numpy as np"
   ]
  },
  {
   "cell_type": "code",
   "execution_count": 12,
   "id": "together-plumbing",
   "metadata": {},
   "outputs": [],
   "source": [
    "def is_dtype (a, t):\n",
    "    return a.dtype is np.dtype(t)"
   ]
  },
  {
   "cell_type": "code",
   "execution_count": 13,
   "id": "appointed-natural",
   "metadata": {},
   "outputs": [
    {
     "name": "stdout",
     "output_type": "stream",
     "text": [
      "True\n",
      "True\n",
      "True\n"
     ]
    }
   ],
   "source": [
    "a = np.random.randint(10, size=6) \n",
    "\n",
    "# 測試一\n",
    "print(is_dtype(a, 'int')) # True\n",
    "\n",
    "# 測試二\n",
    "print(is_dtype(a, np.int)) # True\n",
    "\n",
    "# 測試三\n",
    "print(is_dtype(a, np.dtype('int'))) # True"
   ]
  },
  {
   "cell_type": "markdown",
   "id": "eleven-sullivan",
   "metadata": {},
   "source": [
    "# [簡答題] 承上題，請判斷下列三種寫法為何不正確？"
   ]
  },
  {
   "cell_type": "code",
   "execution_count": 14,
   "id": "violent-richardson",
   "metadata": {},
   "outputs": [],
   "source": [
    "def is_dtype(a, t):\n",
    "    return a.dtype is t\n",
    "\n",
    "def is_dtype(a, t):\n",
    "    return type(a) == np.dtype(t)\n",
    "\n",
    "def is_dtype(a, t):\n",
    "    return type(a) is np.dtype(t)"
   ]
  },
  {
   "cell_type": "code",
   "execution_count": 15,
   "id": "twenty-african",
   "metadata": {},
   "outputs": [
    {
     "data": {
      "text/plain": [
       "'\\ntype()是檢查變數的型態, 而不是元素的型態, is相對==更嚴格, 一定要型態正確才會回傳 True\\n'"
      ]
     },
     "execution_count": 15,
     "metadata": {},
     "output_type": "execute_result"
    }
   ],
   "source": [
    "'''\n",
    "type()是檢查變數的型態, 而不是元素的型態, is相對==更嚴格, 一定要型態正確才會回傳 True\n",
    "'''"
   ]
  },
  {
   "cell_type": "code",
   "execution_count": null,
   "id": "worthy-ability",
   "metadata": {},
   "outputs": [],
   "source": []
  }
 ],
 "metadata": {
  "kernelspec": {
   "display_name": "Python 3",
   "language": "python",
   "name": "python3"
  },
  "language_info": {
   "codemirror_mode": {
    "name": "ipython",
    "version": 3
   },
   "file_extension": ".py",
   "mimetype": "text/x-python",
   "name": "python",
   "nbconvert_exporter": "python",
   "pygments_lexer": "ipython3",
   "version": "3.7.9"
  }
 },
 "nbformat": 4,
 "nbformat_minor": 5
}
