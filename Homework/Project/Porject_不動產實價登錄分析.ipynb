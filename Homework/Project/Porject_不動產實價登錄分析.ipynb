{
 "cells": [
  {
   "cell_type": "markdown",
   "id": "5440eec5",
   "metadata": {},
   "source": [
    "# 專題簡介與目標"
   ]
  },
  {
   "cell_type": "markdown",
   "id": "b6a58c77",
   "metadata": {},
   "source": [
    "有買房需求，考慮台北市、新北市、台中市和高雄市的房子，用內政部不動產交易實價登錄資料先了解行情  \n",
    "使用資料: \n",
    "台北市 Taipei(A_lvr_land_A.csv)、新北市 New_Taipei(F_lvr_land_A.csv)、  \n",
    "台中市 Taichung(B_lvr_land_A.csv)、高雄市 Kaohsiung(E_lvr_land_A.csv)"
   ]
  },
  {
   "cell_type": "markdown",
   "id": "9e7fcfae",
   "metadata": {},
   "source": [
    "### 資料的萃取、清理和串接  \n",
    "1. 不動產資料檔案讀取並串接  \n",
    "2. 資料清理與切片  \n",
    "3. 建立自定義特徵加入分析  \n",
    "\n",
    "### 資料視覺化應用  \n",
    "1. Group by之後將資料視覺化去看資料各縣市的分佈  \n",
    "2. 用折線圖和長條圖呈現房價與建物型態間的變化  \n",
    "\n",
    "### 使用的 Python 程式庫  \n",
    "Pandas、Matplotlib  "
   ]
  },
  {
   "cell_type": "markdown",
   "id": "fc686fd3",
   "metadata": {},
   "source": [
    "1. 資料讀取可以利用 Pandas 讀 csv 檔案，並將資料做串接  \n",
    "   去除遺失值  \n",
    "   欄位的資料型態觀察與更改  \n",
    "   類別資料編碼  \n",
    "   資料切片，擷取需要分析的資料  \n",
    "   尋找異常值  \n",
    "2. 利用相關係數可以分析數據之間的關係為高相關或低相關，正相關或負相關  \n",
    "3. 利用 Pandas 中的 .plot() 即可做到簡易的資料視覺化  "
   ]
  },
  {
   "cell_type": "markdown",
   "id": "2358172e",
   "metadata": {},
   "source": [
    "### 1. 不動產資料檔案讀取並串接"
   ]
  },
  {
   "cell_type": "markdown",
   "id": "6a9dbf68",
   "metadata": {},
   "source": [
    "讀取csv檔  \n",
    "台北市: A_lvr_land_A.csv  \n",
    "新北市: B_lvr_land_A.csv  \n",
    "台中市: E_lvr_land_A.csv  \n",
    "高雄市: F_lvr_land_A.csv"
   ]
  },
  {
   "cell_type": "code",
   "execution_count": 12,
   "id": "b9e84cca",
   "metadata": {},
   "outputs": [],
   "source": [
    "import pandas as pd"
   ]
  },
  {
   "cell_type": "code",
   "execution_count": 13,
   "id": "7281fa4f",
   "metadata": {},
   "outputs": [],
   "source": [
    "data_a = pd.read_csv('./real estate/A_lvr_land_A.csv')\n",
    "data_b = pd.read_csv('./real estate/B_lvr_land_A.csv')\n",
    "data_e = pd.read_csv('./real estate/E_lvr_land_A.csv')\n",
    "data_f = pd.read_csv('./real estate/F_lvr_land_A.csv')"
   ]
  },
  {
   "cell_type": "markdown",
   "id": "a9afee2a",
   "metadata": {},
   "source": [
    "### 1-2. 刪除英文翻譯列"
   ]
  },
  {
   "cell_type": "code",
   "execution_count": 14,
   "id": "d93bb4ae",
   "metadata": {},
   "outputs": [],
   "source": [
    "#刪除row=0資料\n",
    "data_a = data_a.drop([0])\n",
    "data_b = data_b.drop([0])\n",
    "data_e = data_e.drop([0])\n",
    "data_f = data_f.drop([0])"
   ]
  },
  {
   "cell_type": "markdown",
   "id": "22f29867",
   "metadata": {},
   "source": [
    "### 1-3. 增加 city 欄位 和 給欄位值\n",
    "台北市Taipei(A_lvr_land_A.csv)  \n",
    "新北市New_Taipei(F_lvr_land_A.csv)  \n",
    "台中市Taichung(B_lvr_land_A.csv)  \n",
    "高雄市Kaohsiung(E_lvr_land_A.csv)  "
   ]
  },
  {
   "cell_type": "code",
   "execution_count": 15,
   "id": "18a85f3c",
   "metadata": {},
   "outputs": [],
   "source": [
    "#指定新增在第0欄\n",
    "data_a.insert(0, 'City', 'Taipei')\n",
    "data_b.insert(0, 'City', 'Taichung')\n",
    "data_e.insert(0, 'City', 'Kaohsiung')\n",
    "data_f.insert(0, 'City', 'New_Taipei')"
   ]
  },
  {
   "cell_type": "markdown",
   "id": "db44241f",
   "metadata": {},
   "source": [
    "### 1-4.合併四份資料"
   ]
  },
  {
   "cell_type": "code",
   "execution_count": 16,
   "id": "eca1a337",
   "metadata": {},
   "outputs": [
    {
     "name": "stdout",
     "output_type": "stream",
     "text": [
      "<class 'pandas.core.frame.DataFrame'>\n",
      "Int64Index: 47835 entries, 1 to 15577\n",
      "Data columns (total 34 columns):\n",
      " #   Column         Non-Null Count  Dtype  \n",
      "---  ------         --------------  -----  \n",
      " 0   City           47835 non-null  object \n",
      " 1   鄉鎮市區           47835 non-null  object \n",
      " 2   交易標的           47835 non-null  object \n",
      " 3   土地位置建物門牌       47835 non-null  object \n",
      " 4   土地移轉總面積平方公尺    47835 non-null  object \n",
      " 5   都市土地使用分區       43492 non-null  object \n",
      " 6   非都市土地使用分區      3137 non-null   object \n",
      " 7   非都市土地使用編定      3131 non-null   object \n",
      " 8   交易年月日          47835 non-null  object \n",
      " 9   交易筆棟數          47835 non-null  object \n",
      " 10  移轉層次           39914 non-null  object \n",
      " 11  總樓層數           39902 non-null  object \n",
      " 12  建物型態           47835 non-null  object \n",
      " 13  主要用途           38419 non-null  object \n",
      " 14  主要建材           39906 non-null  object \n",
      " 15  建築完成年月         39223 non-null  object \n",
      " 16  建物移轉總面積平方公尺    47835 non-null  object \n",
      " 17  建物現況格局-房       47835 non-null  object \n",
      " 18  建物現況格局-廳       47835 non-null  object \n",
      " 19  建物現況格局-衛       47835 non-null  object \n",
      " 20  建物現況格局-隔間      47835 non-null  object \n",
      " 21  有無管理組織         47835 non-null  object \n",
      " 22  總價元            47835 non-null  object \n",
      " 23  單價元平方公尺        46819 non-null  object \n",
      " 24  車位類別           20327 non-null  object \n",
      " 25  車位移轉總面積(平方公尺)  47835 non-null  object \n",
      " 26  車位總價元          47835 non-null  object \n",
      " 27  備註             25647 non-null  object \n",
      " 28  編號             47835 non-null  object \n",
      " 29  主建物面積          47835 non-null  float64\n",
      " 30  附屬建物面積         47835 non-null  float64\n",
      " 31  陽台面積           47835 non-null  float64\n",
      " 32  電梯             47835 non-null  object \n",
      " 33  移轉編號           14001 non-null  float64\n",
      "dtypes: float64(4), object(30)\n",
      "memory usage: 12.8+ MB\n"
     ]
    }
   ],
   "source": [
    "all_data = pd.concat([data_a,data_b,data_e,data_f], axis=0) #axis = 0直向合併\n",
    "all_data.info()\n",
    "#all_data.to_excel('all_conbin_data.xlsx')"
   ]
  },
  {
   "cell_type": "markdown",
   "id": "36cbba87",
   "metadata": {},
   "source": [
    "# 2. 資料清理與切片"
   ]
  },
  {
   "cell_type": "markdown",
   "id": "c4eec696",
   "metadata": {},
   "source": [
    "自住，所以刪除住宿用途以外的資料，並且限制  \n",
    "\n",
    "交易年月日，限制在107年含以上的資料  \n",
    "建物現況格局-房，1-5間  \n",
    "建物現況格局-廳，1-2廳  "
   ]
  },
  {
   "cell_type": "markdown",
   "id": "5371ef58",
   "metadata": {},
   "source": [
    "### 2-1. columns_mapping、analysis_columns、columns_type提供給資料科學家配合使用"
   ]
  },
  {
   "cell_type": "markdown",
   "id": "30904574",
   "metadata": {},
   "source": [
    "a. columns_mapping: 將原中文欄位名稱，改為英文欄位名稱，以利後續分析  \n",
    "b. analysis_columns: 需要分析的欄位  \n",
    "c. columns_type: 欄位型態轉換  "
   ]
  },
  {
   "cell_type": "code",
   "execution_count": 17,
   "id": "682a0df7",
   "metadata": {},
   "outputs": [],
   "source": [
    "columns_mapping = {'鄉鎮市區':'towns',\n",
    "                   '交易標的':'transaction_sign',\n",
    "                   '土地區段位置建物區段門牌':'house_number',\n",
    "                   '土地位置建物門牌':'address',\n",
    "                   '土地移轉總面積平方公尺':'land_area_square_meter', \n",
    "                   '都市土地使用分區':'use_zoning', \n",
    "                   '非都市土地使用分區':'land_use_district',\n",
    "                   '非都市土地使用編定':'land_use',\n",
    "                   '交易年月日':'tx_dt', \n",
    "                   '交易筆棟數':'transaction_pen_number', \n",
    "                   '移轉層次':'shifting_level', \n",
    "                   '總樓層數':'total_floor_number', \n",
    "                   '建物型態':'building_state', \n",
    "                   '主要用途':'main_use', \n",
    "                   '主要建材':'main_materials',\n",
    "                   '建築完成年月':'complete_date', \n",
    "                   '建物移轉總面積平方公尺':'building_area_square_meter', \n",
    "                   '建物現況格局-房':'room_number', \n",
    "                   '建物現況格局-廳':'hall_number', \n",
    "                   '建物現況格局-衛':'health_number', \n",
    "                   '建物現況格局-隔間':'compartmented_number', \n",
    "                   '有無管理組織':'manages', \n",
    "                   '總價元':'total_price', \n",
    "                   '單價元平方公尺':'unit_price', \n",
    "                   '車位類別':'berth_category', \n",
    "                   '車位移轉總面積(平方公尺)':'berth_area_square_meter',\n",
    "                   '車位總價元':'berth_price', \n",
    "                   '備註':'note', \n",
    "                   '編號':'serial_number', \n",
    "                   '主建物面積':'main_building_area', \n",
    "                   '附屬建物面積':'auxiliary_building_area', \n",
    "                   '陽台面積':'balcony_area', \n",
    "                   '電梯':'elevator'\n",
    "                  }\n",
    "analysis_columns = ['City','towns','main_use','building_state','use_zoning'\n",
    "                    ,'total_price','building_area_square_meter','main_building_area','tx_dt','unit_price'\n",
    "                    ,'room_number','hall_number','health_number'\n",
    "                   ]\n",
    "columns_type = {'total_price': 'int'\n",
    "                ,'unit_price':'float'\n",
    "                ,'building_area_square_meter':'float'\n",
    "                ,'main_building_area': 'float'\n",
    "                ,'room_number': 'int'\n",
    "                ,'hall_number': 'int'\n",
    "                ,'health_number': 'int'\n",
    "               }"
   ]
  },
  {
   "cell_type": "code",
   "execution_count": 18,
   "id": "11e14cec",
   "metadata": {},
   "outputs": [],
   "source": [
    "#將原中文欄位名稱改為英文方便之後分析\n",
    "analysis_data = all_data.rename(columns=columns_mapping)"
   ]
  },
  {
   "cell_type": "code",
   "execution_count": 19,
   "id": "2013e9c4",
   "metadata": {},
   "outputs": [],
   "source": [
    "#資料清理前，先查看資料\n",
    "#analysis_data.head(5)\n",
    "#analysis_data.to_excel('result.xlsx')"
   ]
  },
  {
   "cell_type": "markdown",
   "id": "72272dbb",
   "metadata": {},
   "source": [
    "### 2-2. 取出主要用途(main_use)為'住家用' 以及都市土地使用分區(use_zoning)為'住'的資料，  \n",
    "###        並針對以下欄位analysis_columns做分析並去除na值"
   ]
  },
  {
   "cell_type": "code",
   "execution_count": 20,
   "id": "9744bb28",
   "metadata": {},
   "outputs": [],
   "source": [
    "analysis_data = analysis_data.loc[(analysis_data['main_use'].str.contains('住'))\n",
    "                                  &(analysis_data['use_zoning'].str.contains('住'))\n",
    "                                  &(analysis_data['note']!='親友%'),analysis_columns].dropna()"
   ]
  },
  {
   "cell_type": "markdown",
   "id": "f1491113",
   "metadata": {},
   "source": [
    "### 2-3. column type 轉換"
   ]
  },
  {
   "cell_type": "code",
   "execution_count": 21,
   "id": "3bbef153",
   "metadata": {},
   "outputs": [
    {
     "name": "stdout",
     "output_type": "stream",
     "text": [
      "<class 'pandas.core.frame.DataFrame'>\n",
      "Int64Index: 25899 entries, 7 to 15576\n",
      "Data columns (total 13 columns):\n",
      " #   Column                      Non-Null Count  Dtype  \n",
      "---  ------                      --------------  -----  \n",
      " 0   City                        25899 non-null  object \n",
      " 1   towns                       25899 non-null  object \n",
      " 2   main_use                    25899 non-null  object \n",
      " 3   building_state              25899 non-null  object \n",
      " 4   use_zoning                  25899 non-null  object \n",
      " 5   total_price                 25899 non-null  object \n",
      " 6   building_area_square_meter  25899 non-null  object \n",
      " 7   main_building_area          25899 non-null  float64\n",
      " 8   tx_dt                       25899 non-null  object \n",
      " 9   unit_price                  25899 non-null  object \n",
      " 10  room_number                 25899 non-null  object \n",
      " 11  hall_number                 25899 non-null  object \n",
      " 12  health_number               25899 non-null  object \n",
      "dtypes: float64(1), object(12)\n",
      "memory usage: 2.8+ MB\n",
      "<class 'pandas.core.frame.DataFrame'>\n",
      "Int64Index: 25899 entries, 7 to 15576\n",
      "Data columns (total 13 columns):\n",
      " #   Column                      Non-Null Count  Dtype  \n",
      "---  ------                      --------------  -----  \n",
      " 0   City                        25899 non-null  object \n",
      " 1   towns                       25899 non-null  object \n",
      " 2   main_use                    25899 non-null  object \n",
      " 3   building_state              25899 non-null  object \n",
      " 4   use_zoning                  25899 non-null  object \n",
      " 5   total_price                 25899 non-null  int32  \n",
      " 6   building_area_square_meter  25899 non-null  float64\n",
      " 7   main_building_area          25899 non-null  float64\n",
      " 8   tx_dt                       25899 non-null  object \n",
      " 9   unit_price                  25899 non-null  float64\n",
      " 10  room_number                 25899 non-null  int32  \n",
      " 11  hall_number                 25899 non-null  int32  \n",
      " 12  health_number               25899 non-null  int32  \n",
      "dtypes: float64(3), int32(4), object(6)\n",
      "memory usage: 2.4+ MB\n"
     ]
    }
   ],
   "source": [
    "analysis_data.info()\n",
    "analysis_data = analysis_data.astype(columns_type)\n",
    "analysis_data.info()"
   ]
  },
  {
   "cell_type": "markdown",
   "id": "8ed2b0f8",
   "metadata": {},
   "source": [
    "### 2-4. 資料切片  \n",
    "         a. 指定只看107年資料(tx_dt): 新增欄位(tx_dt_year)\n",
    "         b. 建物現況格局-房(room_number)，限制在1到5間\n",
    "         c. 建物現況格局-廳(hall_number)，限制在1到2廳\n",
    "         d. 最後運用.reset_index()重新定義索引"
   ]
  },
  {
   "cell_type": "code",
   "execution_count": 22,
   "id": "84186470",
   "metadata": {},
   "outputs": [],
   "source": [
    "#a. 指定只看107年以後資料(tx_dt): 新增欄位(tx_dt_year)\n",
    "analysis_data['tx_dt_year'] = analysis_data['tx_dt'].apply(lambda x: int(x[:-4]))"
   ]
  },
  {
   "cell_type": "code",
   "execution_count": 23,
   "id": "e2fed427",
   "metadata": {},
   "outputs": [],
   "source": [
    "#b. 建物現況格局-房(room_number)，限制在1到5間\n",
    "#c. 建物現況格局-廳(hall_number)，限制在1到2廳\n",
    "#d. 重新定義索引\n",
    "analysis_data = analysis_data.loc[(analysis_data.tx_dt_year >= 107)\n",
    "                                  & (analysis_data.room_number >= 1)\n",
    "                                  & (analysis_data.room_number <= 5)\n",
    "                                  & (analysis_data.hall_number >= 1)\n",
    "                                  & (analysis_data.hall_number <= 2)\n",
    "                                 ]\n",
    "analysis_data = analysis_data.reset_index(drop=True)"
   ]
  },
  {
   "cell_type": "code",
   "execution_count": 24,
   "id": "f6148996",
   "metadata": {},
   "outputs": [],
   "source": [
    "#觀察資料\n",
    "#analysis_data.head()\n",
    "#analysis_data.to_excel('result.xlsx')"
   ]
  },
  {
   "cell_type": "markdown",
   "id": "9d408052",
   "metadata": {},
   "source": [
    "# 3. 建立自定義特徵加入分析"
   ]
  },
  {
   "cell_type": "markdown",
   "id": "326361ce",
   "metadata": {},
   "source": [
    "### 3-1. 定義新特徵 : 1平方公尺相當於0.3025坪  \n",
    "  \n",
    "建物移轉總面積坪(building_area_square_feet) : 建物移轉總面積平方公尺 x 0.3025  \n",
    "主建物面積坪(main_building_area_square_feet) : 主建物面積 x 0.3025  \n",
    "單價元坪(unit_price_square_feet) : 單價元平方公尺 / 0.3025  "
   ]
  },
  {
   "cell_type": "code",
   "execution_count": 25,
   "id": "1c21377e",
   "metadata": {},
   "outputs": [],
   "source": [
    "#新增三個欄位存放單位轉換後的值\n",
    "analysis_data['building_area_square_feet'] = analysis_data.building_area_square_meter*0.3025\n",
    "analysis_data['main_building_area_square_feet'] = analysis_data.main_building_area*0.3025\n",
    "analysis_data['unit_price_square_feet'] = analysis_data.unit_price/0.3025"
   ]
  },
  {
   "cell_type": "markdown",
   "id": "4ff413f7",
   "metadata": {},
   "source": [
    "### 3-2. 觀察資料"
   ]
  },
  {
   "cell_type": "code",
   "execution_count": 26,
   "id": "58d1a03a",
   "metadata": {},
   "outputs": [
    {
     "data": {
      "text/html": [
       "<div>\n",
       "<style scoped>\n",
       "    .dataframe tbody tr th:only-of-type {\n",
       "        vertical-align: middle;\n",
       "    }\n",
       "\n",
       "    .dataframe tbody tr th {\n",
       "        vertical-align: top;\n",
       "    }\n",
       "\n",
       "    .dataframe thead th {\n",
       "        text-align: right;\n",
       "    }\n",
       "</style>\n",
       "<table border=\"1\" class=\"dataframe\">\n",
       "  <thead>\n",
       "    <tr style=\"text-align: right;\">\n",
       "      <th></th>\n",
       "      <th>total_price</th>\n",
       "      <th>building_area_square_meter</th>\n",
       "      <th>main_building_area</th>\n",
       "      <th>unit_price</th>\n",
       "      <th>room_number</th>\n",
       "      <th>hall_number</th>\n",
       "      <th>health_number</th>\n",
       "      <th>tx_dt_year</th>\n",
       "      <th>building_area_square_feet</th>\n",
       "      <th>main_building_area_square_feet</th>\n",
       "      <th>unit_price_square_feet</th>\n",
       "    </tr>\n",
       "  </thead>\n",
       "  <tbody>\n",
       "    <tr>\n",
       "      <th>count</th>\n",
       "      <td>2.263400e+04</td>\n",
       "      <td>22634.000000</td>\n",
       "      <td>22634.000000</td>\n",
       "      <td>2.263400e+04</td>\n",
       "      <td>22634.000000</td>\n",
       "      <td>22634.000000</td>\n",
       "      <td>22634.000000</td>\n",
       "      <td>22634.000000</td>\n",
       "      <td>22634.000000</td>\n",
       "      <td>22634.000000</td>\n",
       "      <td>2.263400e+04</td>\n",
       "    </tr>\n",
       "    <tr>\n",
       "      <th>mean</th>\n",
       "      <td>1.372834e+07</td>\n",
       "      <td>138.666648</td>\n",
       "      <td>84.198650</td>\n",
       "      <td>1.042577e+05</td>\n",
       "      <td>2.860740</td>\n",
       "      <td>1.827074</td>\n",
       "      <td>1.856897</td>\n",
       "      <td>109.805470</td>\n",
       "      <td>41.946661</td>\n",
       "      <td>25.470092</td>\n",
       "      <td>3.446535e+05</td>\n",
       "    </tr>\n",
       "    <tr>\n",
       "      <th>std</th>\n",
       "      <td>1.107267e+07</td>\n",
       "      <td>63.397566</td>\n",
       "      <td>44.107177</td>\n",
       "      <td>6.350069e+04</td>\n",
       "      <td>0.896023</td>\n",
       "      <td>0.378191</td>\n",
       "      <td>0.899528</td>\n",
       "      <td>0.913346</td>\n",
       "      <td>19.177764</td>\n",
       "      <td>13.342421</td>\n",
       "      <td>2.099196e+05</td>\n",
       "    </tr>\n",
       "    <tr>\n",
       "      <th>min</th>\n",
       "      <td>1.000000e+04</td>\n",
       "      <td>1.320000</td>\n",
       "      <td>0.000000</td>\n",
       "      <td>1.510000e+02</td>\n",
       "      <td>1.000000</td>\n",
       "      <td>1.000000</td>\n",
       "      <td>0.000000</td>\n",
       "      <td>107.000000</td>\n",
       "      <td>0.399300</td>\n",
       "      <td>0.000000</td>\n",
       "      <td>4.991736e+02</td>\n",
       "    </tr>\n",
       "    <tr>\n",
       "      <th>25%</th>\n",
       "      <td>7.700000e+06</td>\n",
       "      <td>96.462500</td>\n",
       "      <td>57.030000</td>\n",
       "      <td>6.695075e+04</td>\n",
       "      <td>2.000000</td>\n",
       "      <td>2.000000</td>\n",
       "      <td>1.000000</td>\n",
       "      <td>110.000000</td>\n",
       "      <td>29.179906</td>\n",
       "      <td>17.251575</td>\n",
       "      <td>2.213248e+05</td>\n",
       "    </tr>\n",
       "    <tr>\n",
       "      <th>50%</th>\n",
       "      <td>1.120000e+07</td>\n",
       "      <td>128.265000</td>\n",
       "      <td>75.870000</td>\n",
       "      <td>8.859500e+04</td>\n",
       "      <td>3.000000</td>\n",
       "      <td>2.000000</td>\n",
       "      <td>2.000000</td>\n",
       "      <td>110.000000</td>\n",
       "      <td>38.800162</td>\n",
       "      <td>22.950675</td>\n",
       "      <td>2.928760e+05</td>\n",
       "    </tr>\n",
       "    <tr>\n",
       "      <th>75%</th>\n",
       "      <td>1.616000e+07</td>\n",
       "      <td>166.450000</td>\n",
       "      <td>95.607500</td>\n",
       "      <td>1.285498e+05</td>\n",
       "      <td>3.000000</td>\n",
       "      <td>2.000000</td>\n",
       "      <td>2.000000</td>\n",
       "      <td>110.000000</td>\n",
       "      <td>50.351125</td>\n",
       "      <td>28.921269</td>\n",
       "      <td>4.249579e+05</td>\n",
       "    </tr>\n",
       "    <tr>\n",
       "      <th>max</th>\n",
       "      <td>2.667800e+08</td>\n",
       "      <td>695.040000</td>\n",
       "      <td>639.610000</td>\n",
       "      <td>4.290970e+06</td>\n",
       "      <td>5.000000</td>\n",
       "      <td>2.000000</td>\n",
       "      <td>52.000000</td>\n",
       "      <td>111.000000</td>\n",
       "      <td>210.249600</td>\n",
       "      <td>193.482025</td>\n",
       "      <td>1.418502e+07</td>\n",
       "    </tr>\n",
       "  </tbody>\n",
       "</table>\n",
       "</div>"
      ],
      "text/plain": [
       "        total_price  building_area_square_meter  main_building_area  \\\n",
       "count  2.263400e+04                22634.000000        22634.000000   \n",
       "mean   1.372834e+07                  138.666648           84.198650   \n",
       "std    1.107267e+07                   63.397566           44.107177   \n",
       "min    1.000000e+04                    1.320000            0.000000   \n",
       "25%    7.700000e+06                   96.462500           57.030000   \n",
       "50%    1.120000e+07                  128.265000           75.870000   \n",
       "75%    1.616000e+07                  166.450000           95.607500   \n",
       "max    2.667800e+08                  695.040000          639.610000   \n",
       "\n",
       "         unit_price   room_number   hall_number  health_number    tx_dt_year  \\\n",
       "count  2.263400e+04  22634.000000  22634.000000   22634.000000  22634.000000   \n",
       "mean   1.042577e+05      2.860740      1.827074       1.856897    109.805470   \n",
       "std    6.350069e+04      0.896023      0.378191       0.899528      0.913346   \n",
       "min    1.510000e+02      1.000000      1.000000       0.000000    107.000000   \n",
       "25%    6.695075e+04      2.000000      2.000000       1.000000    110.000000   \n",
       "50%    8.859500e+04      3.000000      2.000000       2.000000    110.000000   \n",
       "75%    1.285498e+05      3.000000      2.000000       2.000000    110.000000   \n",
       "max    4.290970e+06      5.000000      2.000000      52.000000    111.000000   \n",
       "\n",
       "       building_area_square_feet  main_building_area_square_feet  \\\n",
       "count               22634.000000                    22634.000000   \n",
       "mean                   41.946661                       25.470092   \n",
       "std                    19.177764                       13.342421   \n",
       "min                     0.399300                        0.000000   \n",
       "25%                    29.179906                       17.251575   \n",
       "50%                    38.800162                       22.950675   \n",
       "75%                    50.351125                       28.921269   \n",
       "max                   210.249600                      193.482025   \n",
       "\n",
       "       unit_price_square_feet  \n",
       "count            2.263400e+04  \n",
       "mean             3.446535e+05  \n",
       "std              2.099196e+05  \n",
       "min              4.991736e+02  \n",
       "25%              2.213248e+05  \n",
       "50%              2.928760e+05  \n",
       "75%              4.249579e+05  \n",
       "max              1.418502e+07  "
      ]
     },
     "execution_count": 26,
     "metadata": {},
     "output_type": "execute_result"
    }
   ],
   "source": [
    "analysis_data.describe()"
   ]
  },
  {
   "cell_type": "markdown",
   "id": "f1d2c839",
   "metadata": {},
   "source": [
    "發現 \n",
    "main_building_area min是零  \n",
    "main_building_area_square_feet min是零  \n",
    "需將其拿掉"
   ]
  },
  {
   "cell_type": "code",
   "execution_count": 27,
   "id": "02404bf8",
   "metadata": {},
   "outputs": [],
   "source": [
    "analysis_data = analysis_data.loc[(analysis_data.main_building_area > 0)\n",
    "                                  &(analysis_data.main_building_area_square_feet > 0)]"
   ]
  },
  {
   "cell_type": "code",
   "execution_count": 28,
   "id": "912e9e2b",
   "metadata": {
    "scrolled": true
   },
   "outputs": [
    {
     "data": {
      "text/html": [
       "<div>\n",
       "<style scoped>\n",
       "    .dataframe tbody tr th:only-of-type {\n",
       "        vertical-align: middle;\n",
       "    }\n",
       "\n",
       "    .dataframe tbody tr th {\n",
       "        vertical-align: top;\n",
       "    }\n",
       "\n",
       "    .dataframe thead th {\n",
       "        text-align: right;\n",
       "    }\n",
       "</style>\n",
       "<table border=\"1\" class=\"dataframe\">\n",
       "  <thead>\n",
       "    <tr style=\"text-align: right;\">\n",
       "      <th></th>\n",
       "      <th>total_price</th>\n",
       "      <th>building_area_square_meter</th>\n",
       "      <th>main_building_area</th>\n",
       "      <th>unit_price</th>\n",
       "      <th>room_number</th>\n",
       "      <th>hall_number</th>\n",
       "      <th>health_number</th>\n",
       "      <th>tx_dt_year</th>\n",
       "      <th>building_area_square_feet</th>\n",
       "      <th>main_building_area_square_feet</th>\n",
       "      <th>unit_price_square_feet</th>\n",
       "    </tr>\n",
       "  </thead>\n",
       "  <tbody>\n",
       "    <tr>\n",
       "      <th>count</th>\n",
       "      <td>2.261000e+04</td>\n",
       "      <td>22610.000000</td>\n",
       "      <td>22610.000000</td>\n",
       "      <td>2.261000e+04</td>\n",
       "      <td>22610.000000</td>\n",
       "      <td>22610.000000</td>\n",
       "      <td>22610.000000</td>\n",
       "      <td>22610.000000</td>\n",
       "      <td>22610.000000</td>\n",
       "      <td>22610.000000</td>\n",
       "      <td>2.261000e+04</td>\n",
       "    </tr>\n",
       "    <tr>\n",
       "      <th>mean</th>\n",
       "      <td>1.372847e+07</td>\n",
       "      <td>138.647946</td>\n",
       "      <td>84.288025</td>\n",
       "      <td>1.042626e+05</td>\n",
       "      <td>2.859487</td>\n",
       "      <td>1.826935</td>\n",
       "      <td>1.855108</td>\n",
       "      <td>109.805175</td>\n",
       "      <td>41.941004</td>\n",
       "      <td>25.497127</td>\n",
       "      <td>3.446699e+05</td>\n",
       "    </tr>\n",
       "    <tr>\n",
       "      <th>std</th>\n",
       "      <td>1.107533e+07</td>\n",
       "      <td>63.379094</td>\n",
       "      <td>44.045143</td>\n",
       "      <td>6.348286e+04</td>\n",
       "      <td>0.894956</td>\n",
       "      <td>0.378312</td>\n",
       "      <td>0.896998</td>\n",
       "      <td>0.913742</td>\n",
       "      <td>19.172176</td>\n",
       "      <td>13.323656</td>\n",
       "      <td>2.098607e+05</td>\n",
       "    </tr>\n",
       "    <tr>\n",
       "      <th>min</th>\n",
       "      <td>1.000000e+04</td>\n",
       "      <td>2.990000</td>\n",
       "      <td>2.990000</td>\n",
       "      <td>1.510000e+02</td>\n",
       "      <td>1.000000</td>\n",
       "      <td>1.000000</td>\n",
       "      <td>0.000000</td>\n",
       "      <td>107.000000</td>\n",
       "      <td>0.904475</td>\n",
       "      <td>0.904475</td>\n",
       "      <td>4.991736e+02</td>\n",
       "    </tr>\n",
       "    <tr>\n",
       "      <th>25%</th>\n",
       "      <td>7.700000e+06</td>\n",
       "      <td>96.445000</td>\n",
       "      <td>57.165000</td>\n",
       "      <td>6.699500e+04</td>\n",
       "      <td>2.000000</td>\n",
       "      <td>2.000000</td>\n",
       "      <td>1.000000</td>\n",
       "      <td>110.000000</td>\n",
       "      <td>29.174612</td>\n",
       "      <td>17.292412</td>\n",
       "      <td>2.214711e+05</td>\n",
       "    </tr>\n",
       "    <tr>\n",
       "      <th>50%</th>\n",
       "      <td>1.120000e+07</td>\n",
       "      <td>128.240000</td>\n",
       "      <td>75.930000</td>\n",
       "      <td>8.863550e+04</td>\n",
       "      <td>3.000000</td>\n",
       "      <td>2.000000</td>\n",
       "      <td>2.000000</td>\n",
       "      <td>110.000000</td>\n",
       "      <td>38.792600</td>\n",
       "      <td>22.968825</td>\n",
       "      <td>2.930099e+05</td>\n",
       "    </tr>\n",
       "    <tr>\n",
       "      <th>75%</th>\n",
       "      <td>1.616000e+07</td>\n",
       "      <td>166.420000</td>\n",
       "      <td>95.620000</td>\n",
       "      <td>1.285498e+05</td>\n",
       "      <td>3.000000</td>\n",
       "      <td>2.000000</td>\n",
       "      <td>2.000000</td>\n",
       "      <td>110.000000</td>\n",
       "      <td>50.342050</td>\n",
       "      <td>28.925050</td>\n",
       "      <td>4.249579e+05</td>\n",
       "    </tr>\n",
       "    <tr>\n",
       "      <th>max</th>\n",
       "      <td>2.667800e+08</td>\n",
       "      <td>695.040000</td>\n",
       "      <td>639.610000</td>\n",
       "      <td>4.290970e+06</td>\n",
       "      <td>5.000000</td>\n",
       "      <td>2.000000</td>\n",
       "      <td>52.000000</td>\n",
       "      <td>111.000000</td>\n",
       "      <td>210.249600</td>\n",
       "      <td>193.482025</td>\n",
       "      <td>1.418502e+07</td>\n",
       "    </tr>\n",
       "  </tbody>\n",
       "</table>\n",
       "</div>"
      ],
      "text/plain": [
       "        total_price  building_area_square_meter  main_building_area  \\\n",
       "count  2.261000e+04                22610.000000        22610.000000   \n",
       "mean   1.372847e+07                  138.647946           84.288025   \n",
       "std    1.107533e+07                   63.379094           44.045143   \n",
       "min    1.000000e+04                    2.990000            2.990000   \n",
       "25%    7.700000e+06                   96.445000           57.165000   \n",
       "50%    1.120000e+07                  128.240000           75.930000   \n",
       "75%    1.616000e+07                  166.420000           95.620000   \n",
       "max    2.667800e+08                  695.040000          639.610000   \n",
       "\n",
       "         unit_price   room_number   hall_number  health_number    tx_dt_year  \\\n",
       "count  2.261000e+04  22610.000000  22610.000000   22610.000000  22610.000000   \n",
       "mean   1.042626e+05      2.859487      1.826935       1.855108    109.805175   \n",
       "std    6.348286e+04      0.894956      0.378312       0.896998      0.913742   \n",
       "min    1.510000e+02      1.000000      1.000000       0.000000    107.000000   \n",
       "25%    6.699500e+04      2.000000      2.000000       1.000000    110.000000   \n",
       "50%    8.863550e+04      3.000000      2.000000       2.000000    110.000000   \n",
       "75%    1.285498e+05      3.000000      2.000000       2.000000    110.000000   \n",
       "max    4.290970e+06      5.000000      2.000000      52.000000    111.000000   \n",
       "\n",
       "       building_area_square_feet  main_building_area_square_feet  \\\n",
       "count               22610.000000                    22610.000000   \n",
       "mean                   41.941004                       25.497127   \n",
       "std                    19.172176                       13.323656   \n",
       "min                     0.904475                        0.904475   \n",
       "25%                    29.174612                       17.292412   \n",
       "50%                    38.792600                       22.968825   \n",
       "75%                    50.342050                       28.925050   \n",
       "max                   210.249600                      193.482025   \n",
       "\n",
       "       unit_price_square_feet  \n",
       "count            2.261000e+04  \n",
       "mean             3.446699e+05  \n",
       "std              2.098607e+05  \n",
       "min              4.991736e+02  \n",
       "25%              2.214711e+05  \n",
       "50%              2.930099e+05  \n",
       "75%              4.249579e+05  \n",
       "max              1.418502e+07  "
      ]
     },
     "execution_count": 28,
     "metadata": {},
     "output_type": "execute_result"
    }
   ],
   "source": [
    "#拿掉後再觀察資料\n",
    "analysis_data.describe()"
   ]
  },
  {
   "cell_type": "code",
   "execution_count": 29,
   "id": "4c51e882",
   "metadata": {},
   "outputs": [],
   "source": [
    "#觀察資料\n",
    "#analysis_data.head()\n",
    "#analysis_data.to_excel('result.xlsx')"
   ]
  },
  {
   "cell_type": "markdown",
   "id": "2d646aeb",
   "metadata": {},
   "source": [
    "# 4. 資料視覺化_房價走勢"
   ]
  },
  {
   "cell_type": "markdown",
   "id": "2bb9f13d",
   "metadata": {},
   "source": [
    "### 4-1. 台北市、新北市、台中市和高雄市從107年到111年的房價平均數走勢  \n",
    "     結論: 110年和111年平均房價持平，高雄市在四個縣市中房價最低"
   ]
  },
  {
   "cell_type": "code",
   "execution_count": 30,
   "id": "d4a5e880",
   "metadata": {},
   "outputs": [
    {
     "data": {
      "text/plain": [
       "<AxesSubplot:title={'center':'Living Place Price History'}, xlabel='Year', ylabel='Unit price square feet(TWD)'>"
      ]
     },
     "execution_count": 30,
     "metadata": {},
     "output_type": "execute_result"
    },
    {
     "data": {
      "image/png": "[encoded data removed]",
      "text/plain": [
       "<Figure size 1000x500 with 1 Axes>"
      ]
     },
     "metadata": {},
     "output_type": "display_data"
    }
   ],
   "source": [
    "#篩選各縣市(City)的一坪單價，取四分位數25%-75%間的坪單價\n",
    "prices = {}\n",
    "for district in set(analysis_data['City']):\n",
    "    cond = (\n",
    "        (analysis_data['City'] == district)\n",
    "        & (analysis_data['unit_price_square_feet'] <= analysis_data[\"unit_price_square_feet\"].quantile(0.75))\n",
    "        & (analysis_data['unit_price_square_feet'] >= analysis_data[\"unit_price_square_feet\"].quantile(0.25))\n",
    "        )\n",
    "    \n",
    "    groups = analysis_data[cond]['tx_dt_year']\n",
    "    \n",
    "    prices[district] = analysis_data[cond]['unit_price_square_feet'].astype(float).groupby(groups).mean()\n",
    "    \n",
    "price_history = pd.DataFrame(prices)\n",
    "price_history.plot(title='Living Place Price History',\n",
    "                    xlabel='Year',\n",
    "                    ylabel='Unit price square feet(TWD)',\n",
    "                    legend=True,                    \n",
    "                    figsize=(10, 5))"
   ]
  },
  {
   "cell_type": "markdown",
   "id": "831fd832",
   "metadata": {},
   "source": [
    "### 4-2. 高雄市從107年到目前的建物型態房價走勢  \n",
    "     結論:公寓(5樓以下無電梯)的房價大幅下修，華廈(10樓以下有電梯)房價往上升且高於公寓和透天厝價格"
   ]
  },
  {
   "cell_type": "code",
   "execution_count": 31,
   "id": "c10ee937",
   "metadata": {},
   "outputs": [],
   "source": [
    "import matplotlib.pyplot as plt\n",
    "from matplotlib.font_manager import FontProperties"
   ]
  },
  {
   "cell_type": "code",
   "execution_count": 32,
   "id": "41ce692c",
   "metadata": {},
   "outputs": [
    {
     "data": {
      "image/png": "[encoded data removed]",
      "text/plain": [
       "<Figure size 1000x500 with 1 Axes>"
      ]
     },
     "metadata": {},
     "output_type": "display_data"
    }
   ],
   "source": [
    "#取高雄市各建案型態的一坪單價，取四分位數25%-75%間的坪單價\n",
    "building_type_prices = {}\n",
    "for building_type in set(analysis_data['building_state']):\n",
    "    cond = (\n",
    "            (analysis_data[\"City\"]=='Kaohsiung')\n",
    "           &(analysis_data['unit_price_square_feet'] < analysis_data[\"unit_price_square_feet\"].quantile(0.75))\n",
    "           & (analysis_data['unit_price_square_feet'] > analysis_data[\"unit_price_square_feet\"].quantile(0.25))\n",
    "           & (analysis_data['building_state'] == building_type)\n",
    "     )\n",
    "    groups = analysis_data[cond]['tx_dt_year']\n",
    "    \n",
    "    building_type_prices[building_type] = analysis_data[cond]['unit_price_square_feet'].astype(float).groupby(groups).mean()\n",
    "\n",
    "plt.rcParams['font.sans-serif'] = ['Taipei Sans TC Beta'] #中文亂碼\n",
    "    \n",
    "building_type_prices = pd.DataFrame(building_type_prices)\n",
    "\n",
    "building_type_prices.plot(title='Kaohsiung Building State Price History',\n",
    "                    xlabel='Year',\n",
    "                    ylabel='Unit price square feet(TWD)',\n",
    "                    legend=True,                    \n",
    "                    figsize=(10, 5))\n",
    "\n",
    "#plt.gca().xaxis.set_major_formatter(plt.FuncFormatter(lambda x, _: int(x))) #x軸整數\n",
    "\n",
    "# 顯示圖表\n",
    "plt.show()"
   ]
  },
  {
   "cell_type": "markdown",
   "id": "0d600a22",
   "metadata": {},
   "source": [
    "### 4-3. 將高雄-前金區的房價單獨拿出來看，並且按照建案型態製作分佈圖\n",
    " 結論: 110年前金區的住宅大樓每坪落在2萬4到2萬6之間"
   ]
  },
  {
   "cell_type": "code",
   "execution_count": 33,
   "id": "50419265",
   "metadata": {},
   "outputs": [
    {
     "data": {
      "image/png": "[encoded data removed]",
      "text/plain": [
       "<Figure size 800x400 with 1 Axes>"
      ]
     },
     "metadata": {},
     "output_type": "display_data"
    }
   ],
   "source": [
    "#110年高雄市前金區每坪方35萬內的住宅大樓和華廈價格分佈圖\n",
    "dfdistrict = analysis_data[(analysis_data['City'] == 'Kaohsiung') \n",
    "                            & (analysis_data['towns'] == '前金區') \n",
    "                            & (analysis_data['tx_dt_year'] == 110)     \n",
    "                            & ((analysis_data['building_state'] == '住宅大樓(11層含以上有電梯)') \n",
    "                                | (analysis_data['building_state'] == '華廈(10層含以下有電梯)') \n",
    "                              # | (analysis_data['building_state'] == '公寓(5樓含以下無電梯)')\n",
    "                         )]\n",
    "\n",
    "dfdistrict_filter = dfdistrict[dfdistrict['unit_price_square_feet'] < 350000]\n",
    "dfdistrict = dfdistrict_filter['unit_price_square_feet'].groupby(dfdistrict['building_state'])\n",
    "dfdistrict.plot ( kind='hist'\n",
    "                , alpha=0.7\n",
    "                , bins=20\n",
    "                , title='高雄市前金區建案型態價格分佈圖'\n",
    "                , grid=True\n",
    "                , figsize=(8,4)\n",
    "                , fontsize=15\n",
    "                , legend=True)\n",
    "plt.xlabel('坪(TWD)')\n",
    "plt.ylabel(\"數量(戶)\")\n",
    "plt.show()"
   ]
  }
 ],
 "metadata": {
  "kernelspec": {
   "display_name": "Python 3 (ipykernel)",
   "language": "python",
   "name": "python3"
  },
  "language_info": {
   "codemirror_mode": {
    "name": "ipython",
    "version": 3
   },
   "file_extension": ".py",
   "mimetype": "text/x-python",
   "name": "python",
   "nbconvert_exporter": "python",
   "pygments_lexer": "ipython3",
   "version": "3.9.13"
  }
 },
 "nbformat": 4,
 "nbformat_minor": 5
}
