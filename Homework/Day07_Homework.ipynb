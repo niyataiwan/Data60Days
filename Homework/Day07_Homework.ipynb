{
 "cells": [
  {
   "cell_type": "markdown",
   "metadata": {},
   "source": [
    "# 請比較對一個 100 x 100 * 100 的陣列，使用不同方法對每一個元素 +1 的時間比較。\n"
   ]
  },
  {
   "cell_type": "code",
   "execution_count": 1,
   "metadata": {},
   "outputs": [],
   "source": [
    "import numpy as np\n",
    "a = np.random.randint(0,100,1000000).reshape(100,100,100)"
   ]
  },
  {
   "cell_type": "code",
   "execution_count": 17,
   "metadata": {},
   "outputs": [
    {
     "name": "stdout",
     "output_type": "stream",
     "text": [
      "25.7 ns ± 7.28 ns per loop (mean ± std. dev. of 7 runs, 10 loops each)\n"
     ]
    }
   ],
   "source": [
    "%timeit -n 10 a = 2\n",
    "for i in a:\n",
    "    for j in i:\n",
    "        for k in j:\n",
    "            i = i+1"
   ]
  },
  {
   "cell_type": "code",
   "execution_count": 18,
   "metadata": {},
   "outputs": [
    {
     "name": "stdout",
     "output_type": "stream",
     "text": [
      "24.3 ns ± 7.28 ns per loop (mean ± std. dev. of 7 runs, 10 loops each)\n"
     ]
    }
   ],
   "source": [
    "%timeit -n 10 a = 2\n",
    "for i in a.flat:\n",
    "    i = i+1"
   ]
  },
  {
   "cell_type": "code",
   "execution_count": 19,
   "metadata": {},
   "outputs": [
    {
     "name": "stdout",
     "output_type": "stream",
     "text": [
      "22.9 ns ± 7 ns per loop (mean ± std. dev. of 7 runs, 10 loops each)\n"
     ]
    }
   ],
   "source": [
    "%timeit -n 10 a = 2\n",
    "for i in np.nditer(a):\n",
    "    i = i+1"
   ]
  },
  {
   "cell_type": "markdown",
   "metadata": {},
   "source": [
    "# 如何從一個陣列中，找出出現頻率最高的數值與位置？\n"
   ]
  },
  {
   "cell_type": "code",
   "execution_count": 33,
   "metadata": {},
   "outputs": [
    {
     "name": "stdout",
     "output_type": "stream",
     "text": [
      "[7 6 8 7 0 9 6 8 3 5 9 2 8 5 7 6 8 2 8 9 6 8 2 2 3 4 2 4 8 1 3 7 7 9 6 2 1\n",
      " 3 6 9 0 8 9 4 3 6 7 1 0 0]\n"
     ]
    }
   ],
   "source": [
    "z = np. random.randint(0,10,50)\n",
    "print(z)"
   ]
  },
  {
   "cell_type": "code",
   "execution_count": 35,
   "metadata": {},
   "outputs": [
    {
     "name": "stdout",
     "output_type": "stream",
     "text": [
      "出現頻率最高的數字: 3\n",
      "出現頻率最高的位置: [ 8 24 30 37 44]\n"
     ]
    }
   ],
   "source": [
    "rint = z [np.bincount(z).argmax()]\n",
    "print('出現頻率最高的數字:',rint)\n",
    "print('出現頻率最高的位置:',np.where(z==rint)[0])"
   ]
  },
  {
   "cell_type": "markdown",
   "metadata": {},
   "source": [
    "# 如何利用 list(...) 實現 a.tolist() 的效果？試著用程式實作。"
   ]
  },
  {
   "cell_type": "code",
   "execution_count": 38,
   "metadata": {},
   "outputs": [
    {
     "name": "stdout",
     "output_type": "stream",
     "text": [
      "[7, 6, 8, 7, 0, 9, 6, 8, 3, 5, 9, 2, 8, 5, 7, 6, 8, 2, 8, 9, 6, 8, 2, 2, 3, 4, 2, 4, 8, 1, 3, 7, 7, 9, 6, 2, 1, 3, 6, 9, 0, 8, 9, 4, 3, 6, 7, 1, 0, 0]\n",
      "[7, 6, 8, 7, 0, 9, 6, 8, 3, 5, 9, 2, 8, 5, 7, 6, 8, 2, 8, 9, 6, 8, 2, 2, 3, 4, 2, 4, 8, 1, 3, 7, 7, 9, 6, 2, 1, 3, 6, 9, 0, 8, 9, 4, 3, 6, 7, 1, 0, 0]\n"
     ]
    }
   ],
   "source": [
    "def tolist(iterable):\n",
    "    if type (iterable) != np.ndarray:\n",
    "        return iterable\n",
    "    return [tolist(obj) for obj in iterable ]\n",
    "print(tolist(z))\n",
    "print(z.tolist())"
   ]
  },
  {
   "cell_type": "code",
   "execution_count": 4,
   "metadata": {},
   "outputs": [
    {
     "name": "stdout",
     "output_type": "stream",
     "text": [
      "array1的反矩陣:\n",
      " [[ 0.19230769 -0.30769231]\n",
      " [-0.11538462  0.38461538]]\n",
      "反矩陣成上原矩陣為單位矩陣:\n",
      "(array1_T) x (array1) = \n",
      " [[1. 0.]\n",
      " [0. 1.]]\n"
     ]
    }
   ],
   "source": [
    "#1.運用上列array計算反矩陣，乘上原矩陣，並觀察是否為單位矩陣?\n",
    "array1 = np.array([[10, 8], [3, 5]])\n",
    "array1_T = np.linalg.inv(array1)\n",
    "print(\"array1的反矩陣:\\n\",array1_T)\n",
    "ans = np.dot(array1,array1_T)\n",
    "print(\"反矩陣成上原矩陣為單位矩陣:\\n(array1_T) x (array1) = \\n\",ans)"
   ]
  },
  {
   "cell_type": "code",
   "execution_count": 5,
   "metadata": {},
   "outputs": [
    {
     "name": "stdout",
     "output_type": "stream",
     "text": [
      "特徵值: [13.  2.] \n",
      "特徵向量:\n",
      " [[ 0.93632918 -0.70710678]\n",
      " [ 0.35112344  0.70710678]]\n"
     ]
    }
   ],
   "source": [
    "#2. 運用上列array計算特徵值、特徵向量?\n",
    "value, vector = np.linalg.eig(array1)\n",
    "print(\"特徵值:\",value,\"\\n特徵向量:\\n\",vector)"
   ]
  },
  {
   "cell_type": "code",
   "execution_count": 7,
   "metadata": {},
   "outputs": [
    {
     "name": "stdout",
     "output_type": "stream",
     "text": [
      "SVD:\n",
      " (array([[-0.91663818, -0.39971796],\n",
      "       [-0.39971796,  0.91663818]]), array([13.94721714,  1.86417116]), array([[-0.74319741, -0.6690722 ],\n",
      "       [-0.6690722 ,  0.74319741]]))\n"
     ]
    }
   ],
   "source": [
    "#3. 運用上列array計算SVD?\n",
    "array_svd = np.linalg.svd(array1)\n",
    "print(\"SVD:\\n\",array_svd)"
   ]
  },
  {
   "cell_type": "code",
   "execution_count": null,
   "metadata": {},
   "outputs": [],
   "source": []
  }
 ],
 "metadata": {
  "kernelspec": {
   "display_name": "Python 3",
   "language": "python",
   "name": "python3"
  },
  "language_info": {
   "codemirror_mode": {
    "name": "ipython",
    "version": 3
   },
   "file_extension": ".py",
   "mimetype": "text/x-python",
   "name": "python",
   "nbconvert_exporter": "python",
   "pygments_lexer": "ipython3",
   "version": "3.7.9"
  }
 },
 "nbformat": 4,
 "nbformat_minor": 2
}
