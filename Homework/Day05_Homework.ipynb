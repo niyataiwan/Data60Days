{
 "cells": [
  {
   "cell_type": "markdown",
   "id": "virtual-buffalo",
   "metadata": {},
   "source": [
    "# 產生一個 1-11 的一維陣列，並且把 3-6 由正數變成負數。"
   ]
  },
  {
   "cell_type": "code",
   "execution_count": 5,
   "id": "environmental-pearl",
   "metadata": {},
   "outputs": [
    {
     "name": "stdout",
     "output_type": "stream",
     "text": [
      "[ 1  2 -3 -4 -5 -6  7  8  9 10 11]\n"
     ]
    }
   ],
   "source": [
    "import numpy as np\n",
    "a = np.arange(11)+1\n",
    "a[(a>=3) & (a<7) ] *=-1\n",
    "print(a)"
   ]
  },
  {
   "cell_type": "markdown",
   "id": "recreational-munich",
   "metadata": {},
   "source": [
    "# 試著從一個隨機陣列中，找出比 0.5 大的數有幾個？"
   ]
  },
  {
   "cell_type": "code",
   "execution_count": 9,
   "id": "tropical-brazil",
   "metadata": {},
   "outputs": [
    {
     "name": "stdout",
     "output_type": "stream",
     "text": [
      "[0.85942171 0.76764014 0.91669487 0.25309321 0.3914963  0.25443391\n",
      " 0.8540859  0.71320833 0.89298279 0.20303266]\n",
      "比0.5大的數有: 6 個\n"
     ]
    }
   ],
   "source": [
    "b = np.random.rand(10)\n",
    "num = 0\n",
    "for i in range(0,b.size):\n",
    "    if (b[i]>0.5):\n",
    "        num +=1\n",
    "print(b)\n",
    "print('比0.5大的數有:',num,'個')"
   ]
  },
  {
   "cell_type": "code",
   "execution_count": 7,
   "id": "similar-restaurant",
   "metadata": {},
   "outputs": [],
   "source": [
    "import numpy as np"
   ]
  },
  {
   "cell_type": "code",
   "execution_count": 15,
   "id": "appointed-discipline",
   "metadata": {},
   "outputs": [],
   "source": [
    "english_score = np.array([55,89,76,65,48,70])\n",
    "math_score = np.array([60,85,60,68,np.nan,60])\n",
    "chinese_score = np.array([65,90,82,72,66,77])"
   ]
  },
  {
   "cell_type": "code",
   "execution_count": 30,
   "id": "executive-extent",
   "metadata": {},
   "outputs": [
    {
     "name": "stdout",
     "output_type": "stream",
     "text": [
      "英文成績的平均: 67.16666666666667   最大值: 89   最小值: 48   標準差: 13.433995020924426\n",
      "數學成績的平均: 64.66666666666667   最大值: 85.0   最小值: 55.0   標準差: 9.860132971832694\n",
      "國文成績的平均: 75.33333333333333   最大值: 90   最小值: 65   標準差: 8.825468196582484\n"
     ]
    }
   ],
   "source": [
    "#1. 請計算各科成績平均、最大值、最小值、標準差，其中數學缺一筆資料可忽略?\n",
    "En_ave = np.nanmean(english_score)\n",
    "En_max = np.nanmax(english_score)\n",
    "En_min = np.nanmin(english_score)\n",
    "En_std = np.nanstd(english_score)\n",
    "print(\"英文成績的平均:\",En_ave,\"  最大值:\",En_max,\"  最小值:\",En_min,\"  標準差:\",En_std)\n",
    "#print(\"英文成績的最大值:\",En_max)\n",
    "#print(\"英文成績的最小值:\",En_min)\n",
    "#print(\"英文成績的標準差:\",En_std)\n",
    "Ma_ave = np.nanmean(math_score)\n",
    "Ma_max = np.nanmax(math_score)\n",
    "Ma_min = np.nanmin(math_score)\n",
    "Ma_std = np.nanstd(math_score)\n",
    "print(\"數學成績的平均:\",Ma_ave, \"  最大值:\",Ma_max,\"  最小值:\",Ma_min,\"  標準差:\",Ma_std)\n",
    "#print(\"數學成績的最大值:\",Ma_max)\n",
    "#print(\"數學成績的最小值:\",Ma_min)\n",
    "#print(\"數學成績的標準差:\",Ma_std)\n",
    "Ch_ave = np.nanmean(chinese_score)\n",
    "Ch_max = np.nanmax(chinese_score)\n",
    "Ch_min = np.nanmin(chinese_score)\n",
    "Ch_std = np.nanstd(chinese_score)\n",
    "print(\"國文成績的平均:\",Ch_ave ,\"  最大值:\",Ch_max,\"  最小值:\",Ch_min,\"  標準差:\",Ch_std)\n",
    "#print(\"國文成績的最大值:\",Ch_max)\n",
    "#print(\"國文成績的最小值:\",Ch_min)\n",
    "#print(\"國文成績的標準差:\",Ch_std)"
   ]
  },
  {
   "cell_type": "code",
   "execution_count": 31,
   "id": "solid-dependence",
   "metadata": {},
   "outputs": [
    {
     "name": "stdout",
     "output_type": "stream",
     "text": [
      "數學成績的平均: 64.66666666666667\n",
      "數學成績的最大值: 85.0\n",
      "數學成績的最小值: 55.0\n",
      "數學成績的標準差: 9.860132971832694\n"
     ]
    }
   ],
   "source": [
    "#2. 第五位同學補考數學後成績為55，請計算補考後數學成績平均、最大值、最小值、標準差?\n",
    "math_score[4]=55\n",
    "Ma_ave = np.nanmean(math_score)\n",
    "Ma_max = np.nanmax(math_score)\n",
    "Ma_min = np.nanmin(math_score)\n",
    "Ma_std = np.nanstd(math_score)\n",
    "print(\"數學成績的平均:\",Ma_ave)\n",
    "print(\"數學成績的最大值:\",Ma_max)\n",
    "print(\"數學成績的最小值:\",Ma_min)\n",
    "print(\"數學成績的標準差:\",Ma_std)"
   ]
  },
  {
   "cell_type": "code",
   "execution_count": 26,
   "id": "smaller-designer",
   "metadata": {},
   "outputs": [
    {
     "name": "stdout",
     "output_type": "stream",
     "text": [
      "英文與國文成績的相關係數: 0.9779282830211268\n",
      "數學與國文成績的相關係數: 0.740568027023363\n",
      "英文與國文成績相關係數最高!!\n"
     ]
    }
   ],
   "source": [
    "#3. 用補考後資料找出與國文成績相關係數最高的學科?\n",
    "En_Ch = np.corrcoef(english_score,chinese_score)\n",
    "Ma_Ch = np.corrcoef(math_score,chinese_score)\n",
    "print(\"英文與國文成績的相關係數:\",En_Ch[0][1])\n",
    "print(\"數學與國文成績的相關係數:\",Ma_Ch[0][1])\n",
    "print(\"英文與國文成績相關係數最高!!\")"
   ]
  },
  {
   "cell_type": "code",
   "execution_count": null,
   "id": "given-slave",
   "metadata": {},
   "outputs": [],
   "source": []
  }
 ],
 "metadata": {
  "kernelspec": {
   "display_name": "Python 3",
   "language": "python",
   "name": "python3"
  },
  "language_info": {
   "codemirror_mode": {
    "name": "ipython",
    "version": 3
   },
   "file_extension": ".py",
   "mimetype": "text/x-python",
   "name": "python",
   "nbconvert_exporter": "python",
   "pygments_lexer": "ipython3",
   "version": "3.7.9"
  }
 },
 "nbformat": 4,
 "nbformat_minor": 5
}
