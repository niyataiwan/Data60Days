{
 "cells": [
  {
   "cell_type": "markdown",
   "id": "dangerous-marina",
   "metadata": {},
   "source": [
    "# 1. [簡答題] 請問下列程式碼，運算結果分別為何？\n",
    "\n",
    "\n",
    "\n",
    "a = np.array( [20,30,40,50] )\n",
    "\n",
    "b = np.array( [1,2,3,4] ) \n",
    "\n",
    "c = 1\n",
    "\n",
    "d = np.array( [1] )\n",
    "\n",
    "e = np.array( [1,2] ) "
   ]
  },
  {
   "cell_type": "code",
   "execution_count": 3,
   "id": "federal-exercise",
   "metadata": {},
   "outputs": [],
   "source": [
    "import numpy as np"
   ]
  },
  {
   "cell_type": "code",
   "execution_count": 6,
   "id": "polar-wichita",
   "metadata": {},
   "outputs": [
    {
     "name": "stdout",
     "output_type": "stream",
     "text": [
      "[21 32 43 54]\n",
      "[21 31 41 51]\n",
      "[21 31 41 51]\n"
     ]
    },
    {
     "ename": "ValueError",
     "evalue": "operands could not be broadcast together with shapes (4,) (2,) ",
     "output_type": "error",
     "traceback": [
      "\u001b[1;31m---------------------------------------------------------------------------\u001b[0m",
      "\u001b[1;31mValueError\u001b[0m                                Traceback (most recent call last)",
      "\u001b[1;32m<ipython-input-6-6b74bf0b986b>\u001b[0m in \u001b[0;36m<module>\u001b[1;34m\u001b[0m\n\u001b[0;32m      7\u001b[0m \u001b[0mprint\u001b[0m\u001b[1;33m(\u001b[0m\u001b[0ma\u001b[0m\u001b[1;33m+\u001b[0m\u001b[0mc\u001b[0m\u001b[1;33m)\u001b[0m\u001b[1;33m\u001b[0m\u001b[1;33m\u001b[0m\u001b[0m\n\u001b[0;32m      8\u001b[0m \u001b[0mprint\u001b[0m\u001b[1;33m(\u001b[0m\u001b[0ma\u001b[0m\u001b[1;33m+\u001b[0m\u001b[0md\u001b[0m\u001b[1;33m)\u001b[0m\u001b[1;33m\u001b[0m\u001b[1;33m\u001b[0m\u001b[0m\n\u001b[1;32m----> 9\u001b[1;33m \u001b[0mprint\u001b[0m\u001b[1;33m(\u001b[0m\u001b[0ma\u001b[0m\u001b[1;33m+\u001b[0m\u001b[0me\u001b[0m\u001b[1;33m)\u001b[0m\u001b[1;33m\u001b[0m\u001b[1;33m\u001b[0m\u001b[0m\n\u001b[0m",
      "\u001b[1;31mValueError\u001b[0m: operands could not be broadcast together with shapes (4,) (2,) "
     ]
    }
   ],
   "source": [
    "a = np.array( [20,30,40,50] )\n",
    "b = np.array( [1,2,3,4] )\n",
    "c = 1\n",
    "d = np.array( [1] )\n",
    "e = np.array( [1,2] )\n",
    "print(a+b)\n",
    "print(a+c)\n",
    "print(a+d)\n",
    "print(a+e) #長度不同不能廣播"
   ]
  },
  {
   "cell_type": "markdown",
   "id": "optimum-intermediate",
   "metadata": {},
   "source": [
    "# 2. 如何在不用迴圈的情況下計算 (A+B)*(-A/2) ？那用迴圈怎麼做？"
   ]
  },
  {
   "cell_type": "code",
   "execution_count": 18,
   "id": "cultural-triple",
   "metadata": {},
   "outputs": [
    {
     "name": "stdout",
     "output_type": "stream",
     "text": [
      "[ -210.  -480.  -860. -1350.]\n",
      "[ -210.  -480.  -860. -1350.]\n"
     ]
    }
   ],
   "source": [
    "c = np.ones(a.size)\n",
    "for i in range(0,a.size):\n",
    "    c[i] = ((a[i]+b[i])*(-a[i]/2))\n",
    "print(c) # 迴圈用法\n",
    "print((a+b)*(-a/2)) #Np廣播特性，可以直接計算"
   ]
  },
  {
   "cell_type": "markdown",
   "id": "motivated-failure",
   "metadata": {},
   "source": [
    "# 3. 請問如何計算「1x6 的單位矩陣」和「6x1 的單位矩陣」的內積和外積？"
   ]
  },
  {
   "cell_type": "code",
   "execution_count": 20,
   "id": "removable-providence",
   "metadata": {},
   "outputs": [
    {
     "name": "stdout",
     "output_type": "stream",
     "text": [
      "[[1. 1. 1. 1. 1. 1.]\n",
      " [1. 1. 1. 1. 1. 1.]\n",
      " [1. 1. 1. 1. 1. 1.]\n",
      " [1. 1. 1. 1. 1. 1.]\n",
      " [1. 1. 1. 1. 1. 1.]\n",
      " [1. 1. 1. 1. 1. 1.]]\n",
      "[[6.]]\n"
     ]
    }
   ],
   "source": [
    "A = np.ones((1,6)) #1*6單位矩陣\n",
    "B = np.ones((6,1)) #6*1單位矩陣\n",
    "\n",
    "print (A * B)\n",
    "print (A @ B)"
   ]
  },
  {
   "cell_type": "code",
   "execution_count": 2,
   "id": "stuck-grounds",
   "metadata": {},
   "outputs": [],
   "source": [
    "import numpy as np\n",
    "english_score = np.array([55,89,76,65,48,70])\n",
    "math_score = np.array([60,85,60,68,55,60])\n",
    "chinese_score = np.array([65,90,82,72,66,77])"
   ]
  },
  {
   "cell_type": "code",
   "execution_count": 30,
   "id": "extraordinary-seafood",
   "metadata": {},
   "outputs": [
    {
     "name": "stdout",
     "output_type": "stream",
     "text": [
      "有 3 位學生英文成績比數學高\n"
     ]
    }
   ],
   "source": [
    "#1.有多少學生英文成績比數學成績高?\n",
    "num=0\n",
    "for i in range(0,english_score.size):\n",
    "    if np.greater(english_score[i],math_score[i])==True:\n",
    "        num=num+1\n",
    "print(\"有\",num,\"位學生英文成績比數學高\")"
   ]
  },
  {
   "cell_type": "code",
   "execution_count": 34,
   "id": "behind-auditor",
   "metadata": {},
   "outputs": [
    {
     "name": "stdout",
     "output_type": "stream",
     "text": [
      "全班同學最高分都是國文\n",
      "[ True  True  True  True  True  True]\n",
      "True\n"
     ]
    }
   ],
   "source": [
    "#2.是否全班同學最高分都是國文?\n",
    "num=0\n",
    "for i in range(0,chinese_score.size):\n",
    "    if np.greater(chinese_score[i],english_score[i])==True and np.greater(chinese_score[i],math_score[i])==True :\n",
    "        num=num+1\n",
    "    if num==chinese_score.size:\n",
    "        print(\"全班同學最高分都是國文\")\n",
    "        \n",
    "ch_greater_ma = np.greater(chinese_score,math_score)\n",
    "ch_greater_en = np.greater(chinese_score,english_score)\n",
    "print(np.logical_and(ch_greater_ma,ch_greater_en))\n",
    "print(np.logical_and(ch_greater_ma,ch_greater_en).all())"
   ]
  },
  {
   "cell_type": "code",
   "execution_count": null,
   "id": "wicked-personality",
   "metadata": {},
   "outputs": [],
   "source": []
  }
 ],
 "metadata": {
  "kernelspec": {
   "display_name": "Python 3",
   "language": "python",
   "name": "python3"
  },
  "language_info": {
   "codemirror_mode": {
    "name": "ipython",
    "version": 3
   },
   "file_extension": ".py",
   "mimetype": "text/x-python",
   "name": "python",
   "nbconvert_exporter": "python",
   "pygments_lexer": "ipython3",
   "version": "3.7.9"
  }
 },
 "nbformat": 4,
 "nbformat_minor": 5
}
