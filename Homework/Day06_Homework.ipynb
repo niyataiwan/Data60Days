{
 "cells": [
  {
   "cell_type": "markdown",
   "id": "greater-mineral",
   "metadata": {},
   "source": [
    "# [簡答題] 請問下列這三種方法有什麼不同？\n",
    "print(a.sum())\n",
    "print(np.sum(a))\n",
    "print(sum(a)) "
   ]
  },
  {
   "cell_type": "code",
   "execution_count": null,
   "id": "young-boost",
   "metadata": {},
   "outputs": [],
   "source": [
    "# sum(a)是python的內建函式，可以針對任何元素。np.sum(a) 與 a.sum() 是陣列裡的專屬函式，差別定義在 np 或 array 底下。 "
   ]
  },
  {
   "cell_type": "markdown",
   "id": "corrected-short",
   "metadata": {},
   "source": [
    "# 請對一個 5x5 的隨機矩陣作正規化的操作。"
   ]
  },
  {
   "cell_type": "code",
   "execution_count": 8,
   "id": "proof-restriction",
   "metadata": {},
   "outputs": [
    {
     "name": "stdout",
     "output_type": "stream",
     "text": [
      "[[-0.81668719 -0.64167753 -0.59774376 -0.51922442 -0.46594866]\n",
      " [-1.00517929 -0.66694659 -0.85478884 -0.09628453 -0.0757077 ]\n",
      " [-0.67109258 -0.7235966  -0.23750779 -0.29372168 -0.44383416]\n",
      " [-0.85390264 -0.11790525 -0.72542381 -0.59958218 -0.34335486]\n",
      " [-0.77900696 -0.74991117 -0.37856193 -0.87563021 -0.55626865]]\n",
      "[[ 0.07801148 -0.26325665 -0.17323855 -0.15905146 -0.53835171]\n",
      " [-1.6546789  -0.37112492 -1.31683878  1.4298919   1.82414345]\n",
      " [ 1.416372   -0.61295189  1.42946061  0.68814002 -0.40447192]\n",
      " [-0.26408696  1.97261666 -0.74129038 -0.46094764  0.20382371]\n",
      " [ 0.42438238 -0.7252832   0.8019071  -1.49803283 -1.08514353]]\n"
     ]
    }
   ],
   "source": [
    "import numpy as np\n",
    "from sklearn import preprocessing #標準化模組\n",
    "a = np.random.random((5,5))\n",
    "print ((a-a.max()/(a.max()-a.min()))) # 最大最小值正規化\n",
    "\n",
    "print(preprocessing.scale(a)) #標準化"
   ]
  },
  {
   "cell_type": "markdown",
   "id": "median-johnston",
   "metadata": {},
   "source": [
    "# 請建立一個長度等於 10 的正整數向量，並且將其中的最大值改成 -1。"
   ]
  },
  {
   "cell_type": "code",
   "execution_count": 12,
   "id": "portuguese-japanese",
   "metadata": {},
   "outputs": [
    {
     "name": "stdout",
     "output_type": "stream",
     "text": [
      "[-1.          0.35767769  0.50010016  0.19237002  0.64010994  0.65388866\n",
      "  0.2856505   0.34051384  0.32497839  0.77998341]\n"
     ]
    }
   ],
   "source": [
    "b = np.random.random(10)\n",
    "b [b.argmax()] = -1 \n",
    "print(b)"
   ]
  },
  {
   "cell_type": "code",
   "execution_count": 1,
   "id": "focused-aside",
   "metadata": {},
   "outputs": [],
   "source": [
    "import numpy as np"
   ]
  },
  {
   "cell_type": "code",
   "execution_count": 14,
   "id": "expressed-strength",
   "metadata": {},
   "outputs": [],
   "source": [
    "#1. 將下兩列array存成npz檔\n",
    "array1 = np.array(range(30))\n",
    "array2 = np.array([2,3,5])\n",
    "np.savez('Hw',array1,array2)"
   ]
  },
  {
   "cell_type": "code",
   "execution_count": 28,
   "id": "gross-research",
   "metadata": {},
   "outputs": [
    {
     "name": "stdout",
     "output_type": "stream",
     "text": [
      "In Hw.npz: ['arr_0', 'arr_1']\n",
      "array1: [ 0  1  2  3  4  5  6  7  8  9 10 11 12 13 14 15 16 17 18 19 20 21 22 23\n",
      " 24 25 26 27 28 29]\n",
      "array2: [2 3 5]\n"
     ]
    }
   ],
   "source": [
    "#2. 讀取剛剛的npz檔，加入下列array一起存成新的npz檔\n",
    "recall = np.load('Hw.npz')\n",
    "print(\"In Hw.npz:\",recall.files)\n",
    "print(\"array1:\",recall['arr_0'])\n",
    "print(\"array2:\",recall['arr_1'])"
   ]
  },
  {
   "cell_type": "code",
   "execution_count": 29,
   "id": "reliable-addition",
   "metadata": {},
   "outputs": [
    {
     "name": "stdout",
     "output_type": "stream",
     "text": [
      "In New_Hw.npz: ['arr_0', 'arr_1', 'arr_2']\n",
      "array1: [ 0  1  2  3  4  5  6  7  8  9 10 11 12 13 14 15 16 17 18 19 20 21 22 23\n",
      " 24 25 26 27 28 29]\n",
      "array2: [2 3 5]\n",
      "array3: [[0 0 0]\n",
      " [1 2 3]]\n"
     ]
    }
   ],
   "source": [
    "array3 = ([[0,0,0],[1,2,3]])\n",
    "np.savez('New_Hw',recall['arr_0'],recall['arr_1'],array3)\n",
    "New_recall = np.load('New_Hw.npz')\n",
    "print(\"In New_Hw.npz:\",New_recall.files)\n",
    "print(\"array1:\",New_recall['arr_0'])\n",
    "print(\"array2:\",New_recall['arr_1'])\n",
    "print(\"array3:\",New_recall['arr_2'])"
   ]
  },
  {
   "cell_type": "code",
   "execution_count": null,
   "id": "warming-cooperative",
   "metadata": {},
   "outputs": [],
   "source": []
  }
 ],
 "metadata": {
  "kernelspec": {
   "display_name": "Python 3",
   "language": "python",
   "name": "python3"
  },
  "language_info": {
   "codemirror_mode": {
    "name": "ipython",
    "version": 3
   },
   "file_extension": ".py",
   "mimetype": "text/x-python",
   "name": "python",
   "nbconvert_exporter": "python",
   "pygments_lexer": "ipython3",
   "version": "3.7.9"
  }
 },
 "nbformat": 4,
 "nbformat_minor": 5
}
